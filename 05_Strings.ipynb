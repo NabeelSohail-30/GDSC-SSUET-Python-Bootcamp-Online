{
 "cells": [
  {
   "cell_type": "markdown",
   "metadata": {},
   "source": [
    "# Title: Strings in Python\n"
   ]
  },
  {
   "cell_type": "markdown",
   "metadata": {},
   "source": [
    "### GDSC SSUET Python Bootcamp Online\n",
    "\n",
    "**Trainer: Mohammad Nabeel**\n",
    "\n",
    "- Website: [https://nabeelsohail2630.wixsite.com/portfolio](https://nabeelsohail2630.wixsite.com/portfolio)\n",
    "- Facebook: [https://www.facebook.com/NabeelDeveloper](https://www.facebook.com/NabeelDeveloper)\n",
    "- LinkedIn: [https://www.linkedin.com/in/nabeel-sohail-a63508200/](https://www.linkedin.com/in/nabeel-sohail-a63508200/)\n",
    "- GitHub: [https://github.com/NabeelSohail-30](https://github.com/NabeelSohail-30)\n",
    "- WhatsApp: +923453628868\n",
    "- Email: [nabeel.sohail2630@outlook.com](mailto:nabeel.sohail2630@outlook.com)\n"
   ]
  },
  {
   "cell_type": "markdown",
   "metadata": {},
   "source": [
    "## Single Line and Multi Line Strings\n"
   ]
  },
  {
   "cell_type": "code",
   "execution_count": 3,
   "metadata": {},
   "outputs": [
    {
     "name": "stdout",
     "output_type": "stream",
     "text": [
      "Single Line String: Hello, World!\n",
      "\n",
      "Multi-Line String:\n",
      "This is a multi-line\n",
      "string in Python.\n",
      "this is line 03\n",
      "\n"
     ]
    }
   ],
   "source": [
    "# Single Line String\n",
    "single_line_string = \"Hello, World!\"\n",
    "print(\"Single Line String:\", single_line_string)\n",
    "\n",
    "# Multi-Line String\n",
    "multi_line_string = \"\"\"This is a multi-line\n",
    "string in Python.\n",
    "this is line 03\n",
    "\"\"\"\n",
    "print(\"\\nMulti-Line String:\")\n",
    "print(multi_line_string)"
   ]
  },
  {
   "cell_type": "markdown",
   "metadata": {},
   "source": [
    "## Get Length of String\n"
   ]
  },
  {
   "cell_type": "code",
   "execution_count": 4,
   "metadata": {},
   "outputs": [
    {
     "name": "stdout",
     "output_type": "stream",
     "text": [
      "\n",
      "Length of String: 16\n"
     ]
    }
   ],
   "source": [
    "my_var = \"this is a string\"\n",
    "string_length = len(my_var)\n",
    "\n",
    "\n",
    "print(\"\\nLength of String:\", string_length)"
   ]
  },
  {
   "cell_type": "markdown",
   "metadata": {},
   "source": [
    "## Check if a Certain Phrase or Character is Present in a String\n"
   ]
  },
  {
   "cell_type": "code",
   "execution_count": 6,
   "metadata": {},
   "outputs": [
    {
     "name": "stdout",
     "output_type": "stream",
     "text": [
      "Is World present in the string? False\n"
     ]
    }
   ],
   "source": [
    "# Check if \"World\" is present in the string\n",
    "phrase_to_check = \"World\"\n",
    "print(\"Is World present in the string?\",\n",
    "      phrase_to_check in single_line_string)"
   ]
  },
  {
   "cell_type": "markdown",
   "metadata": {},
   "source": [
    "## Check if NOT\n"
   ]
  },
  {
   "cell_type": "code",
   "execution_count": 8,
   "metadata": {},
   "outputs": [
    {
     "name": "stdout",
     "output_type": "stream",
     "text": [
      "Is Python not present in the string? False\n"
     ]
    }
   ],
   "source": [
    "phrase_to_check_not = \"World\"\n",
    "print(\"Is Python not present in the string?\",\n",
    "      phrase_to_check_not not in single_line_string)\n",
    "# Python not in Hello World"
   ]
  },
  {
   "cell_type": "markdown",
   "metadata": {},
   "source": [
    "## String Slicing\n"
   ]
  },
  {
   "cell_type": "code",
   "execution_count": 12,
   "metadata": {},
   "outputs": [
    {
     "name": "stdout",
     "output_type": "stream",
     "text": [
      "\n",
      "Substring from start to end: bcde\n",
      "Substring from start: abc\n",
      "Substring from end: defgh\n"
     ]
    }
   ],
   "source": [
    "new_string = 'abcdefgh'\n",
    "# Get the characters from position 1 to position 3 (not included):\n",
    "substring_start_to_end = new_string[1:5]\n",
    "print(\"\\nSubstring from start to end:\", substring_start_to_end)\n",
    "\n",
    "# start from start\n",
    "substring_start = new_string[:3]\n",
    "print(\"Substring from start:\", substring_start)\n",
    "\n",
    "# end at end\n",
    "substring_end = new_string[3:]\n",
    "print(\"Substring from end:\", substring_end)"
   ]
  },
  {
   "cell_type": "markdown",
   "metadata": {},
   "source": [
    "## String Concatenation\n"
   ]
  },
  {
   "cell_type": "code",
   "execution_count": 15,
   "metadata": {},
   "outputs": [
    {
     "name": "stdout",
     "output_type": "stream",
     "text": [
      "\n",
      "Concatenated String: Hello World!\n"
     ]
    }
   ],
   "source": [
    "# Concatenate two strings\n",
    "string1 = \"Hello \"\n",
    "string2 = \"World!\"\n",
    "concatenated_string = string1 + string2\n",
    "print(\"\\nConcatenated String:\", concatenated_string)"
   ]
  },
  {
   "cell_type": "markdown",
   "metadata": {},
   "source": [
    "## Commonly Used String Methods and Operations\n"
   ]
  },
  {
   "cell_type": "code",
   "execution_count": 18,
   "metadata": {},
   "outputs": [
    {
     "name": "stdout",
     "output_type": "stream",
     "text": [
      "\n",
      "Lowercase String: hello, world!\n",
      "Uppercase String: HELLO, WORLD!\n",
      "String after replacement: Hello, Universe!\n",
      "Count of 'l' in the string: 3\n",
      "Index of 'W' in the string: 7\n",
      "\n",
      "Does the string start with 'Hello'? True\n",
      "Does the string end with '?'? False\n"
     ]
    }
   ],
   "source": [
    "single_line_string = \"Hello, World!\"\n",
    "\n",
    "# Convert to lowercase\n",
    "lowercase_string = single_line_string.lower()\n",
    "print(\"\\nLowercase String:\", lowercase_string)\n",
    "\n",
    "# Convert to uppercase\n",
    "uppercase_string = single_line_string.upper()\n",
    "print(\"Uppercase String:\", uppercase_string)\n",
    "\n",
    "# Replace a substring\n",
    "replaced_string = single_line_string.replace(\"World\", \"Universe\")\n",
    "print(\"String after replacement:\", replaced_string)\n",
    "\n",
    "# Count occurrences of a substring\n",
    "substring_count = single_line_string.count(\"l\")\n",
    "print(\"Count of 'l' in the string:\", substring_count)\n",
    "\n",
    "# Find the index of a substring\n",
    "substring_index = single_line_string.find(\"W\")\n",
    "print(\"Index of 'W' in the string:\", substring_index)\n",
    "\n",
    "# Check if the string starts with a specific substring\n",
    "starts_with_check = single_line_string.startswith(\"Hello\")\n",
    "print(\"\\nDoes the string start with 'Hello'?\", starts_with_check)\n",
    "\n",
    "# Check if the string ends with a specific substring\n",
    "ends_with_check = single_line_string.endswith(\"?\")\n",
    "print(\"Does the string end with '?'?\", ends_with_check)"
   ]
  }
 ],
 "metadata": {
  "kernelspec": {
   "display_name": "Python 3",
   "language": "python",
   "name": "python3"
  },
  "language_info": {
   "codemirror_mode": {
    "name": "ipython",
    "version": 3
   },
   "file_extension": ".py",
   "mimetype": "text/x-python",
   "name": "python",
   "nbconvert_exporter": "python",
   "pygments_lexer": "ipython3",
   "version": "3.11.5"
  }
 },
 "nbformat": 4,
 "nbformat_minor": 2
}
