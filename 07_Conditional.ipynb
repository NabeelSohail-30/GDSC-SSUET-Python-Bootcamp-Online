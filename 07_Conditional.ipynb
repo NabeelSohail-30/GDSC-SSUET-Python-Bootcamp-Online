{
 "cells": [
  {
   "cell_type": "markdown",
   "metadata": {},
   "source": [
    "## Conditional Statements\n"
   ]
  },
  {
   "cell_type": "markdown",
   "metadata": {},
   "source": [
    "### GDSC SSUET Python Bootcamp Online\n",
    "\n",
    "**Trainer: Mohammad Nabeel**\n",
    "\n",
    "- Website: [https://nabeelsohail2630.wixsite.com/portfolio](https://nabeelsohail2630.wixsite.com/portfolio)\n",
    "- Facebook: [https://www.facebook.com/NabeelDeveloper](https://www.facebook.com/NabeelDeveloper)\n",
    "- LinkedIn: [https://www.linkedin.com/in/nabeel-sohail-a63508200/](https://www.linkedin.com/in/nabeel-sohail-a63508200/)\n",
    "- GitHub: [https://github.com/NabeelSohail-30](https://github.com/NabeelSohail-30)\n",
    "- WhatsApp: +923453628868\n",
    "- Email: [nabeel.sohail2630@outlook.com](mailto:nabeel.sohail2630@outlook.com)\n"
   ]
  },
  {
   "cell_type": "markdown",
   "metadata": {},
   "source": [
    "## If Statement\n"
   ]
  },
  {
   "cell_type": "markdown",
   "metadata": {},
   "source": [
    "The `if` statement is used for conditional execution of code.\n"
   ]
  },
  {
   "cell_type": "code",
   "execution_count": null,
   "metadata": {},
   "outputs": [],
   "source": [
    "# Example of if statement\n",
    "x = 105\n",
    "if x > 5 and x < 100:\n",
    "    print(\"x is greater than 5\")\n",
    "\n",
    "print(\"This is always printed\")"
   ]
  },
  {
   "cell_type": "markdown",
   "metadata": {},
   "source": [
    "## If-Else Statement\n"
   ]
  },
  {
   "cell_type": "markdown",
   "metadata": {},
   "source": [
    "The if-else statement is used when you want to execute one block of code if the condition is True and another block if it's False.\n"
   ]
  },
  {
   "cell_type": "code",
   "execution_count": null,
   "metadata": {},
   "outputs": [],
   "source": [
    "# Example of if-else statement\n",
    "y = 6\n",
    "if y % 2 == 0:\n",
    "    print(\"y is even\")\n",
    "else:\n",
    "    print(\"y is odd\")"
   ]
  },
  {
   "cell_type": "markdown",
   "metadata": {},
   "source": [
    "## Elif Statement\n"
   ]
  },
  {
   "cell_type": "markdown",
   "metadata": {},
   "source": [
    "The elif statement allows you to check multiple conditions.\n"
   ]
  },
  {
   "cell_type": "code",
   "execution_count": null,
   "metadata": {},
   "outputs": [],
   "source": [
    "# Example of elif statement\n",
    "grade = 75\n",
    "if grade >= 90:\n",
    "    print(\"A\")\n",
    "elif grade >= 80:\n",
    "    print(\"B\")\n",
    "elif grade >= 70:\n",
    "    print(\"C\")\n",
    "else:\n",
    "    print(\"F\")"
   ]
  },
  {
   "cell_type": "code",
   "execution_count": null,
   "metadata": {},
   "outputs": [],
   "source": [
    "day = input(\"Enter a number of day in a week?\")\n",
    "print(type(day))\n",
    "day = int(day)\n",
    "\n",
    "if day == 1:\n",
    "    print(\"Monday\")\n",
    "elif day == 2:\n",
    "    print(\"Tuesday\")\n",
    "elif day == 3:\n",
    "    print(\"Wednesday\")\n",
    "elif day == 4:\n",
    "    print(\"Thursday\")\n",
    "elif day == 5:\n",
    "    print(\"Friday\")\n",
    "elif day == 6:\n",
    "    print(\"Saturday\")\n",
    "elif day == 7:\n",
    "    print(\"Sunday\")\n",
    "else:\n",
    "    print(\"Invalid day\")"
   ]
  },
  {
   "cell_type": "markdown",
   "metadata": {},
   "source": [
    "## Nested If Statements\n"
   ]
  },
  {
   "cell_type": "markdown",
   "metadata": {},
   "source": [
    "You can have one or more `if` statements inside another `if` statement. This is known as nested if statements.\n"
   ]
  },
  {
   "cell_type": "code",
   "execution_count": null,
   "metadata": {},
   "outputs": [],
   "source": [
    "# Example of nested if statements\n",
    "x = 10\n",
    "if x > 0:\n",
    "    print(\"x is positive\")\n",
    "    if x % 2 == 0:\n",
    "        print(\"x is even\")\n",
    "    else:\n",
    "        print(\"x is odd\")\n",
    "else:\n",
    "    print(\"x is non-positive\")\n",
    "\n",
    "\n",
    "if x > 0 and x % 2 == 0:\n",
    "    print(\"x is positive and even\")\n",
    "elif x > 0 and x % 2 != 0:\n",
    "    print(\"x is positive and odd\")\n",
    "else:\n",
    "    print(\"x is non-positive, negative\")"
   ]
  },
  {
   "cell_type": "markdown",
   "metadata": {},
   "source": [
    "## Nested If-Else Statements\n"
   ]
  },
  {
   "cell_type": "markdown",
   "metadata": {},
   "source": [
    "Similarly, you can have if-else statements inside other if or else statements.\n"
   ]
  },
  {
   "cell_type": "code",
   "execution_count": null,
   "metadata": {},
   "outputs": [],
   "source": [
    "# Example of nested if-else statements\n",
    "y = 5\n",
    "if y > 0:\n",
    "    print(\"y is positive\")\n",
    "    if y % 2 == 0:\n",
    "        print(\"y is even\")\n",
    "    else:\n",
    "        print(\"y is odd\")\n",
    "else:\n",
    "    print(\"y is non-positive\")"
   ]
  },
  {
   "cell_type": "markdown",
   "metadata": {},
   "source": [
    "## Nested Elif Statements\n"
   ]
  },
  {
   "cell_type": "markdown",
   "metadata": {},
   "source": [
    "You can also nest elif statements to check multiple conditions in a hierarchical manner.\n"
   ]
  },
  {
   "cell_type": "code",
   "execution_count": null,
   "metadata": {},
   "outputs": [],
   "source": [
    "# Example of nested elif statements\n",
    "grade = 85\n",
    "if grade >= 90:\n",
    "    print(\"A\")\n",
    "elif grade >= 80:\n",
    "    print(\"B\")\n",
    "    if grade >= 85:\n",
    "        print(\"B+\")\n",
    "    else:\n",
    "        print(\"B-\")\n",
    "else:\n",
    "    print(\"Below B\")"
   ]
  }
 ],
 "metadata": {
  "kernelspec": {
   "display_name": "Python 3",
   "language": "python",
   "name": "python3"
  },
  "language_info": {
   "codemirror_mode": {
    "name": "ipython",
    "version": 3
   },
   "file_extension": ".py",
   "mimetype": "text/x-python",
   "name": "python",
   "nbconvert_exporter": "python",
   "pygments_lexer": "ipython3",
   "version": "3.11.5"
  }
 },
 "nbformat": 4,
 "nbformat_minor": 2
}
