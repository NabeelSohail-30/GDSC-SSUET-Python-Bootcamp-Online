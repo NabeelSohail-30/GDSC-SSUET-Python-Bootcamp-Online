{
 "cells": [
  {
   "cell_type": "markdown",
   "metadata": {},
   "source": [
    "# Title: Python List\n"
   ]
  },
  {
   "cell_type": "markdown",
   "metadata": {},
   "source": [
    "## List in Python\n"
   ]
  },
  {
   "cell_type": "markdown",
   "metadata": {},
   "source": [
    "- Lists are used to store multiple items in a single variable.\n",
    "- A list is a collection of items. It can hold elements of different data types.\n",
    "- Lists are created using square brackets\n",
    "- List items are ordered, changeable, and allow duplicate values.\n",
    "- When we say that lists are ordered, it means that the items have a defined order, and that order will not change.\n",
    "- The list is changeable, meaning that we can change, add, and remove items in a list after it has been created.\n"
   ]
  },
  {
   "cell_type": "markdown",
   "metadata": {},
   "source": [
    "## Creating a list\n"
   ]
  },
  {
   "cell_type": "code",
   "execution_count": 1,
   "metadata": {},
   "outputs": [
    {
     "name": "stdout",
     "output_type": "stream",
     "text": [
      "[1, 2, 3, 'hello', 5.0]\n"
     ]
    }
   ],
   "source": [
    "my_list = [1, 2, 3, 'hello', 5.0]\n",
    "print(my_list)"
   ]
  },
  {
   "cell_type": "markdown",
   "metadata": {},
   "source": [
    "## Length of List\n"
   ]
  },
  {
   "cell_type": "markdown",
   "metadata": {},
   "source": [
    "To find the number of elements in a list, use the len() function.\n"
   ]
  },
  {
   "cell_type": "code",
   "execution_count": 2,
   "metadata": {},
   "outputs": [
    {
     "name": "stdout",
     "output_type": "stream",
     "text": [
      "Length of the list: 5\n"
     ]
    }
   ],
   "source": [
    "list_length = len(my_list)\n",
    "print(\"Length of the list:\", list_length)"
   ]
  },
  {
   "cell_type": "markdown",
   "metadata": {},
   "source": [
    "## Access List Item\n"
   ]
  },
  {
   "cell_type": "markdown",
   "metadata": {},
   "source": [
    "You can access elements in a list using index. Indexing starts from 0.\n"
   ]
  },
  {
   "cell_type": "code",
   "execution_count": 4,
   "metadata": {},
   "outputs": [
    {
     "name": "stdout",
     "output_type": "stream",
     "text": [
      "[1, 2, 3, 'hello', 5.0]\n",
      "First element of the list: hello\n"
     ]
    }
   ],
   "source": [
    "print(my_list)\n",
    "first_element = my_list[3]\n",
    "\n",
    "\n",
    "print(\"First element of the list:\", first_element)"
   ]
  },
  {
   "cell_type": "markdown",
   "metadata": {},
   "source": [
    "## Check if Item Exists\n"
   ]
  },
  {
   "cell_type": "markdown",
   "metadata": {},
   "source": [
    "You can use the `in` operator to check if an item exists in a list.\n"
   ]
  },
  {
   "cell_type": "code",
   "execution_count": 7,
   "metadata": {},
   "outputs": [
    {
     "name": "stdout",
     "output_type": "stream",
     "text": [
      "'python' does not exist in the list.\n"
     ]
    }
   ],
   "source": [
    "if 'python' in my_list:\n",
    "    print(\"'python' exists in the list.\")\n",
    "else:\n",
    "    print(\"'python' does not exist in the list.\")"
   ]
  },
  {
   "cell_type": "markdown",
   "metadata": {},
   "source": [
    "## Change List Items\n"
   ]
  },
  {
   "cell_type": "markdown",
   "metadata": {},
   "source": [
    "You can change the value of an element by assigning a new value to it.\n"
   ]
  },
  {
   "cell_type": "code",
   "execution_count": 8,
   "metadata": {},
   "outputs": [
    {
     "name": "stdout",
     "output_type": "stream",
     "text": [
      "[1, 2, 3, 'hello', 5.0]\n",
      "Updated list: [1, 'world', 3, 'hello', 5.0]\n"
     ]
    }
   ],
   "source": [
    "print(my_list)\n",
    "my_list[1] = 'world'\n",
    "\n",
    "\n",
    "print(\"Updated list:\", my_list)"
   ]
  },
  {
   "cell_type": "markdown",
   "metadata": {},
   "source": [
    "## Access and Change a Range of Items\n"
   ]
  },
  {
   "cell_type": "markdown",
   "metadata": {},
   "source": [
    "You can use slicing to access and change a range of elements.\n"
   ]
  },
  {
   "cell_type": "code",
   "execution_count": 9,
   "metadata": {},
   "outputs": [
    {
     "name": "stdout",
     "output_type": "stream",
     "text": [
      "Subset of the list: ['world', 3, 'hello']\n",
      "Updated list after changing a range of items: [1, 10, 20, 30, 5.0]\n"
     ]
    }
   ],
   "source": [
    "subset = my_list[1:4]\n",
    "print(\"Subset of the list:\", subset)\n",
    "\n",
    "my_list[1:4] = [10, 20, 30]\n",
    "print(\"Updated list after changing a range of items:\", my_list)"
   ]
  },
  {
   "cell_type": "markdown",
   "metadata": {},
   "source": [
    "## Append\n"
   ]
  },
  {
   "cell_type": "markdown",
   "metadata": {},
   "source": [
    "To add an element to the end of the list, use the append() method.\n"
   ]
  },
  {
   "cell_type": "code",
   "execution_count": 11,
   "metadata": {},
   "outputs": [
    {
     "name": "stdout",
     "output_type": "stream",
     "text": [
      "List after appending: [1, 10, 20, 30, 5.0, 'new_item', 'new_item']\n",
      "List after appending: [1, 10, 20, 30, 5.0, 'new_item', 'new_item', 'item 02']\n"
     ]
    }
   ],
   "source": [
    "my_list.append('new_item')\n",
    "print(\"List after appending:\", my_list)\n",
    "my_list.append('item 02')\n",
    "print(\"List after appending:\", my_list)"
   ]
  },
  {
   "cell_type": "markdown",
   "metadata": {},
   "source": [
    "## Insert\n"
   ]
  },
  {
   "cell_type": "markdown",
   "metadata": {},
   "source": [
    "To insert an element at a specific position, use the insert() method.\n"
   ]
  },
  {
   "cell_type": "code",
   "execution_count": 12,
   "metadata": {},
   "outputs": [
    {
     "name": "stdout",
     "output_type": "stream",
     "text": [
      "List after inserting: [1, 10, 'inserted_item', 20, 30, 5.0, 'new_item', 'new_item', 'item 02']\n"
     ]
    }
   ],
   "source": [
    "my_list.insert(2, 'inserted_item')\n",
    "print(\"List after inserting:\", my_list)"
   ]
  },
  {
   "cell_type": "markdown",
   "metadata": {},
   "source": [
    "## Extend\n"
   ]
  },
  {
   "cell_type": "markdown",
   "metadata": {},
   "source": [
    "To append elements of another list to the end, use the extend() method.\n"
   ]
  },
  {
   "cell_type": "code",
   "execution_count": 13,
   "metadata": {},
   "outputs": [
    {
     "name": "stdout",
     "output_type": "stream",
     "text": [
      "List after extending: [1, 10, 'inserted_item', 20, 30, 5.0, 'new_item', 'new_item', 'item 02', 100, 200, 300, 10]\n"
     ]
    }
   ],
   "source": [
    "new_elements = [100, 200, 300, 10]\n",
    "my_list.extend(new_elements)\n",
    "print(\"List after extending:\", my_list)"
   ]
  },
  {
   "cell_type": "markdown",
   "metadata": {},
   "source": [
    "## Remove\n"
   ]
  },
  {
   "cell_type": "markdown",
   "metadata": {},
   "source": [
    "To remove a specific item, use the remove() method.\n"
   ]
  },
  {
   "cell_type": "code",
   "execution_count": 17,
   "metadata": {},
   "outputs": [
    {
     "name": "stdout",
     "output_type": "stream",
     "text": [
      "[1, 'inserted_item', 20, 30, 5.0, 'new_item', 'new_item', 'item 02', 100, 300]\n",
      "List after removing '10': [1, 'inserted_item', 20, 30, 5.0, 'new_item', 'item 02', 100, 300]\n"
     ]
    }
   ],
   "source": [
    "print(my_list)\n",
    "my_list.remove('new_item')\n",
    "print(\"List after removing '10':\", my_list)"
   ]
  },
  {
   "cell_type": "markdown",
   "metadata": {},
   "source": [
    "## Pop\n"
   ]
  },
  {
   "cell_type": "markdown",
   "metadata": {},
   "source": [
    "To remove and return an element by index, use the pop() method.\n"
   ]
  },
  {
   "cell_type": "code",
   "execution_count": 18,
   "metadata": {},
   "outputs": [
    {
     "name": "stdout",
     "output_type": "stream",
     "text": [
      "Popped item: 30\n",
      "List after popping: [1, 'inserted_item', 20, 5.0, 'new_item', 'item 02', 100, 300]\n"
     ]
    }
   ],
   "source": [
    "popped_item = my_list.pop(3)\n",
    "print(\"Popped item:\", popped_item)\n",
    "print(\"List after popping:\", my_list)"
   ]
  },
  {
   "cell_type": "markdown",
   "metadata": {},
   "source": [
    "## Clear\n"
   ]
  },
  {
   "cell_type": "markdown",
   "metadata": {},
   "source": [
    "To remove all elements from a list, use the clear() method.\n"
   ]
  },
  {
   "cell_type": "code",
   "execution_count": 19,
   "metadata": {},
   "outputs": [
    {
     "name": "stdout",
     "output_type": "stream",
     "text": [
      "List after clearing: []\n"
     ]
    }
   ],
   "source": [
    "my_list.clear()\n",
    "print(\"List after clearing:\", my_list)"
   ]
  },
  {
   "cell_type": "markdown",
   "metadata": {},
   "source": [
    "## Loop Through List\n"
   ]
  },
  {
   "cell_type": "markdown",
   "metadata": {},
   "source": [
    "You can use a for loop to iterate through each item in the list.\n"
   ]
  },
  {
   "cell_type": "code",
   "execution_count": 20,
   "metadata": {},
   "outputs": [
    {
     "name": "stdout",
     "output_type": "stream",
     "text": [
      "1\n",
      "2\n",
      "3\n",
      "4\n",
      "5\n"
     ]
    }
   ],
   "source": [
    "new_list = [1, 2, 3, 4, 5]\n",
    "for item in new_list:\n",
    "    print(item)"
   ]
  },
  {
   "cell_type": "markdown",
   "metadata": {},
   "source": [
    "## Sort Lists\n"
   ]
  },
  {
   "cell_type": "markdown",
   "metadata": {},
   "source": [
    "To sort a list, use the sort() method.\n"
   ]
  },
  {
   "cell_type": "code",
   "execution_count": 21,
   "metadata": {},
   "outputs": [
    {
     "name": "stdout",
     "output_type": "stream",
     "text": [
      "Sorted list: [1, 2, 3, 5, 8]\n"
     ]
    }
   ],
   "source": [
    "numbers = [5, 2, 8, 1, 3]\n",
    "numbers.sort()\n",
    "print(\"Sorted list:\", numbers)"
   ]
  },
  {
   "cell_type": "markdown",
   "metadata": {},
   "source": [
    "To sort in descending order, use the sort() method with the reverse parameter.\n"
   ]
  },
  {
   "cell_type": "code",
   "execution_count": 22,
   "metadata": {},
   "outputs": [
    {
     "name": "stdout",
     "output_type": "stream",
     "text": [
      "Sorted list in descending order: [8, 5, 3, 2, 1]\n"
     ]
    }
   ],
   "source": [
    "numbers.sort(reverse=True)\n",
    "print(\"Sorted list in descending order:\", numbers)"
   ]
  },
  {
   "cell_type": "markdown",
   "metadata": {},
   "source": [
    "To reverse the order of the list, use the reverse() method.\n"
   ]
  },
  {
   "cell_type": "code",
   "execution_count": 23,
   "metadata": {},
   "outputs": [
    {
     "name": "stdout",
     "output_type": "stream",
     "text": [
      "Reversed list: [1, 2, 3, 5, 8]\n"
     ]
    }
   ],
   "source": [
    "numbers.reverse()\n",
    "print(\"Reversed list:\", numbers)"
   ]
  },
  {
   "cell_type": "markdown",
   "metadata": {},
   "source": [
    "## Copy List\n"
   ]
  },
  {
   "cell_type": "markdown",
   "metadata": {},
   "source": [
    "To create a copy of a list, use the copy() method or the list() constructor.\n"
   ]
  },
  {
   "cell_type": "code",
   "execution_count": 24,
   "metadata": {},
   "outputs": [
    {
     "name": "stdout",
     "output_type": "stream",
     "text": [
      "Copy of the list: [10, 20, 30]\n",
      "Another copy of the list: [10, 20, 30]\n"
     ]
    }
   ],
   "source": [
    "original_list = [10, 20, 30]\n",
    "copy_list = original_list.copy()\n",
    "print(\"Copy of the list:\", copy_list)\n",
    "\n",
    "# Alternatively,\n",
    "copied_list = list(original_list)\n",
    "print(\"Another copy of the list:\", copied_list)"
   ]
  }
 ],
 "metadata": {
  "kernelspec": {
   "display_name": "Python 3",
   "language": "python",
   "name": "python3"
  },
  "language_info": {
   "codemirror_mode": {
    "name": "ipython",
    "version": 3
   },
   "file_extension": ".py",
   "mimetype": "text/x-python",
   "name": "python",
   "nbconvert_exporter": "python",
   "pygments_lexer": "ipython3",
   "version": "3.11.5"
  }
 },
 "nbformat": 4,
 "nbformat_minor": 2
}
