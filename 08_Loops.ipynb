{
 "cells": [
  {
   "cell_type": "markdown",
   "metadata": {},
   "source": [
    "# Title: Loops in Python\n"
   ]
  },
  {
   "cell_type": "markdown",
   "metadata": {},
   "source": [
    "### GDSC SSUET Python Bootcamp Online\n",
    "\n",
    "**Trainer: Mohammad Nabeel**\n",
    "\n",
    "- Website: [https://nabeelsohail2630.wixsite.com/portfolio](https://nabeelsohail2630.wixsite.com/portfolio)\n",
    "- Facebook: [https://www.facebook.com/NabeelDeveloper](https://www.facebook.com/NabeelDeveloper)\n",
    "- LinkedIn: [https://www.linkedin.com/in/nabeel-sohail-a63508200/](https://www.linkedin.com/in/nabeel-sohail-a63508200/)\n",
    "- GitHub: [https://github.com/NabeelSohail-30](https://github.com/NabeelSohail-30)\n",
    "- WhatsApp: +923453628868\n",
    "- Email: [nabeel.sohail2630@outlook.com](mailto:nabeel.sohail2630@outlook.com)\n"
   ]
  },
  {
   "cell_type": "markdown",
   "metadata": {},
   "source": [
    "## For Loop\n"
   ]
  },
  {
   "cell_type": "markdown",
   "metadata": {},
   "source": [
    "The `for` loop in Python can be used with the `range` function to iterate over a sequence of numbers.\n"
   ]
  },
  {
   "cell_type": "code",
   "execution_count": null,
   "metadata": {},
   "outputs": [],
   "source": [
    "# Example of for loop using range function\n",
    "for i in range(15):\n",
    "    # print(i, end=' ')\n",
    "    print('Python')"
   ]
  },
  {
   "cell_type": "markdown",
   "metadata": {},
   "source": [
    "## While Loop\n"
   ]
  },
  {
   "cell_type": "markdown",
   "metadata": {},
   "source": [
    "The while loop is used to repeatedly execute a block of code as long as the given condition is true.\n"
   ]
  },
  {
   "cell_type": "code",
   "execution_count": 6,
   "metadata": {},
   "outputs": [
    {
     "name": "stdout",
     "output_type": "stream",
     "text": [
      "0 1 2 3 4 "
     ]
    }
   ],
   "source": [
    "# Example of while loop\n",
    "count = 0\n",
    "while count < 5:\n",
    "    print(count, end=' ')\n",
    "    count += 1"
   ]
  },
  {
   "cell_type": "markdown",
   "metadata": {},
   "source": [
    "## Nested Loops\n"
   ]
  },
  {
   "cell_type": "markdown",
   "metadata": {},
   "source": [
    "Nested loops are loops inside other loops. They can be used to create more complex patterns or iterate over multi-dimensional structures.\n"
   ]
  },
  {
   "cell_type": "code",
   "execution_count": null,
   "metadata": {},
   "outputs": [],
   "source": [
    "# Example of nested loops\n",
    "for i in range(3):  # Outer loop\n",
    "    for j in range(2):  # Inner loop\n",
    "        print(f'({i}, {j})', end=' ')\n",
    "    print()  # Move to the next line after inner loop completes"
   ]
  },
  {
   "cell_type": "markdown",
   "metadata": {},
   "source": [
    "In the nested loop example, the outer loop iterates three times, and for each iteration of the outer loop, the inner loop iterates twice, producing a grid of coordinates.\n"
   ]
  },
  {
   "cell_type": "markdown",
   "metadata": {},
   "source": [
    "## Continue Statement\n"
   ]
  },
  {
   "cell_type": "markdown",
   "metadata": {},
   "source": [
    "The `continue` statement is used to skip the rest of the code inside a loop for the current iteration and proceed to the next iteration.\n"
   ]
  },
  {
   "cell_type": "code",
   "execution_count": null,
   "metadata": {},
   "outputs": [],
   "source": [
    "# Example of continue statement\n",
    "for i in range(5):\n",
    "    if i == 2:\n",
    "        continue  # Skip the rest of the loop for i = 2\n",
    "    print(i, end=' ')"
   ]
  },
  {
   "cell_type": "markdown",
   "metadata": {},
   "source": [
    "## Break Statement\n"
   ]
  },
  {
   "cell_type": "markdown",
   "metadata": {},
   "source": [
    "The break statement is used to exit a loop prematurely, regardless of whether the loop condition is still true.\n"
   ]
  },
  {
   "cell_type": "code",
   "execution_count": null,
   "metadata": {},
   "outputs": [],
   "source": [
    "# Example of break statement\n",
    "for i in range(5):\n",
    "    if i == 3:\n",
    "        break  # Exit the loop when i = 3\n",
    "    print(i, end=' ')"
   ]
  },
  {
   "cell_type": "markdown",
   "metadata": {},
   "source": [
    "## Continue in a While Loop\n"
   ]
  },
  {
   "cell_type": "code",
   "execution_count": null,
   "metadata": {},
   "outputs": [],
   "source": [
    "# Example of continue in a while loop\n",
    "count = 0\n",
    "while count < 5:\n",
    "    count += 1\n",
    "    if count == 3:\n",
    "        continue  # Skip the rest of the loop for count = 3\n",
    "    print(count, end=' ')"
   ]
  },
  {
   "cell_type": "markdown",
   "metadata": {},
   "source": [
    "## Break in a While Loop\n"
   ]
  },
  {
   "cell_type": "code",
   "execution_count": null,
   "metadata": {},
   "outputs": [],
   "source": [
    "# Example of break in a while loop\n",
    "number = 1\n",
    "while number > 0:\n",
    "    print(number, end=' ')\n",
    "    if number == 5:\n",
    "        break  # Exit the loop when number = 5\n",
    "    number += 1"
   ]
  }
 ],
 "metadata": {
  "kernelspec": {
   "display_name": "Python 3",
   "language": "python",
   "name": "python3"
  },
  "language_info": {
   "codemirror_mode": {
    "name": "ipython",
    "version": 3
   },
   "file_extension": ".py",
   "mimetype": "text/x-python",
   "name": "python",
   "nbconvert_exporter": "python",
   "pygments_lexer": "ipython3",
   "version": "3.11.5"
  }
 },
 "nbformat": 4,
 "nbformat_minor": 2
}
