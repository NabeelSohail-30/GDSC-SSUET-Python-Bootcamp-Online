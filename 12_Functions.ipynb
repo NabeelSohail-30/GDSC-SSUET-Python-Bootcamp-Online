{
 "cells": [
  {
   "cell_type": "markdown",
   "metadata": {},
   "source": [
    "# Title: Python Functions\n"
   ]
  },
  {
   "cell_type": "markdown",
   "metadata": {},
   "source": [
    "## Functions in Python\n"
   ]
  },
  {
   "cell_type": "markdown",
   "metadata": {},
   "source": [
    "A function is a block of reusable code that performs a specific task.\n"
   ]
  },
  {
   "cell_type": "markdown",
   "metadata": {},
   "source": [
    "## Why Use Functions\n"
   ]
  },
  {
   "cell_type": "markdown",
   "metadata": {},
   "source": [
    "Functions allow you to break your code into smaller, modular pieces. They make code more readable, reusable, and easier to maintain.\n"
   ]
  },
  {
   "cell_type": "markdown",
   "metadata": {},
   "source": [
    "## Creating and Calling Functions\n"
   ]
  },
  {
   "cell_type": "markdown",
   "metadata": {},
   "source": [
    "Functions are defined using the `def` keyword.\n"
   ]
  },
  {
   "cell_type": "code",
   "execution_count": 5,
   "metadata": {},
   "outputs": [],
   "source": [
    "def greet():\n",
    "    print(\"Hello, welcome!\")\n",
    "    print(\"How are you?\")\n",
    "    print(\"Have a nice day!\")"
   ]
  },
  {
   "cell_type": "markdown",
   "metadata": {},
   "source": [
    "## Calling the function\n"
   ]
  },
  {
   "cell_type": "code",
   "execution_count": 6,
   "metadata": {},
   "outputs": [
    {
     "name": "stdout",
     "output_type": "stream",
     "text": [
      "Hello, welcome!\n",
      "How are you?\n",
      "Have a nice day!\n"
     ]
    }
   ],
   "source": [
    "greet()"
   ]
  },
  {
   "cell_type": "markdown",
   "metadata": {},
   "source": [
    "## Arguments\n"
   ]
  },
  {
   "cell_type": "markdown",
   "metadata": {},
   "source": [
    "Functions can accept parameters (arguments) that allow you to pass values to the function.\n"
   ]
  },
  {
   "cell_type": "code",
   "execution_count": 10,
   "metadata": {},
   "outputs": [
    {
     "name": "stdout",
     "output_type": "stream",
     "text": [
      "Hello, Alice!\n",
      "You are 25old\n"
     ]
    }
   ],
   "source": [
    "# Function with parameters\n",
    "def greet_name(name, age):\n",
    "    print(\"Hello, \" + name + \"!\")\n",
    "    print(\"You are \" + age + \"old\")\n",
    "\n",
    "\n",
    "# Calling the function with an argument\n",
    "greet_name(\"Alice\", \"25\")"
   ]
  },
  {
   "cell_type": "markdown",
   "metadata": {},
   "source": [
    "## Arbitrary Arguments\n"
   ]
  },
  {
   "cell_type": "markdown",
   "metadata": {},
   "source": [
    "You can use the \\* symbol to allow a function to accept any number of arguments.\n"
   ]
  },
  {
   "cell_type": "code",
   "execution_count": 11,
   "metadata": {},
   "outputs": [
    {
     "name": "stdout",
     "output_type": "stream",
     "text": [
      "('Bob', 'Charlie', 'David')\n",
      "<class 'tuple'>\n",
      "Hello, Bob!\n",
      "Hello, Charlie!\n",
      "Hello, David!\n"
     ]
    }
   ],
   "source": [
    "# Function with arbitrary arguments\n",
    "def greet_all(*names):\n",
    "    print(names)\n",
    "    print(type(names))\n",
    "    for name in names:\n",
    "        print(\"Hello, \" + name + \"!\")\n",
    "\n",
    "\n",
    "# Calling the function with multiple arguments\n",
    "greet_all(\"Bob\", \"Charlie\", \"David\")"
   ]
  },
  {
   "cell_type": "markdown",
   "metadata": {},
   "source": [
    "## Keyword Arguments\n"
   ]
  },
  {
   "cell_type": "markdown",
   "metadata": {},
   "source": [
    "You can pass values to a function using key-value pairs.\n"
   ]
  },
  {
   "cell_type": "code",
   "execution_count": 12,
   "metadata": {},
   "outputs": [
    {
     "name": "stdout",
     "output_type": "stream",
     "text": [
      "Hello, Eve! Welcome to Paris.\n"
     ]
    }
   ],
   "source": [
    "# Function with keyword arguments\n",
    "def greet_with_location(name, location):\n",
    "    print(\"Hello, \" + name + \"! Welcome to \" + location + \".\")\n",
    "\n",
    "\n",
    "# Calling the function with keyword arguments\n",
    "greet_with_location(name=\"Eve\", location=\"Paris\")"
   ]
  },
  {
   "cell_type": "markdown",
   "metadata": {},
   "source": [
    "## Arbitrary Keyword Arguments\n"
   ]
  },
  {
   "cell_type": "markdown",
   "metadata": {},
   "source": [
    "You can use the \\*\\* symbol to allow a function to accept any number of keyword arguments.\n"
   ]
  },
  {
   "cell_type": "code",
   "execution_count": 13,
   "metadata": {},
   "outputs": [
    {
     "name": "stdout",
     "output_type": "stream",
     "text": [
      "name: Frank\n",
      "age: 30\n",
      "city: New York\n"
     ]
    }
   ],
   "source": [
    "# Function with arbitrary keyword arguments\n",
    "def greet_with_details(**details):\n",
    "    for key, value in details.items():\n",
    "        print(f\"{key}: {value}\")\n",
    "\n",
    "\n",
    "# Calling the function with multiple keyword arguments\n",
    "greet_with_details(name=\"Frank\", age=30, city=\"New York\")"
   ]
  },
  {
   "cell_type": "markdown",
   "metadata": {},
   "source": [
    "## Passing a List as an Argument\n"
   ]
  },
  {
   "cell_type": "markdown",
   "metadata": {},
   "source": [
    "You can pass a list as an argument to a function.\n"
   ]
  },
  {
   "cell_type": "code",
   "execution_count": 14,
   "metadata": {},
   "outputs": [
    {
     "name": "stdout",
     "output_type": "stream",
     "text": [
      "1\n",
      "2\n",
      "3\n",
      "4\n",
      "5\n"
     ]
    }
   ],
   "source": [
    "# Function with a list argument\n",
    "def print_numbers(numbers):\n",
    "    for number in numbers:\n",
    "        print(number)\n",
    "\n",
    "\n",
    "# Calling the function with a list\n",
    "num_list = [1, 2, 3, 4, 5]\n",
    "print_numbers(num_list)"
   ]
  },
  {
   "cell_type": "markdown",
   "metadata": {},
   "source": [
    "## Return Value\n"
   ]
  },
  {
   "cell_type": "markdown",
   "metadata": {},
   "source": [
    "Functions can return a value using the `return` keyword.\n"
   ]
  },
  {
   "cell_type": "code",
   "execution_count": 15,
   "metadata": {},
   "outputs": [
    {
     "name": "stdout",
     "output_type": "stream",
     "text": [
      "function to calculate square of a number\n",
      "Square: 16\n"
     ]
    }
   ],
   "source": [
    "# Function with a return value\n",
    "def square(x):\n",
    "    # return x ** 2\n",
    "    print('function to calculate square of a number')\n",
    "    sq = x ** 2\n",
    "    return sq\n",
    "\n",
    "\n",
    "# Calling the function and storing the result\n",
    "result = square(4)\n",
    "print(\"Square:\", result)"
   ]
  },
  {
   "cell_type": "code",
   "execution_count": 17,
   "metadata": {},
   "outputs": [
    {
     "name": "stdout",
     "output_type": "stream",
     "text": [
      "Hello Ahmed\n"
     ]
    }
   ],
   "source": [
    "# Default Argmuments\n",
    "def welcome(name='Guest'):\n",
    "    print('Hello', name)\n",
    "\n",
    "\n",
    "welcome('Ahmed')"
   ]
  },
  {
   "cell_type": "markdown",
   "metadata": {},
   "source": [
    "## variables can exist in different scopes. The two main types of scopes are local scope and global scope.\n"
   ]
  },
  {
   "cell_type": "markdown",
   "metadata": {},
   "source": [
    "## Local Scope\n"
   ]
  },
  {
   "cell_type": "markdown",
   "metadata": {},
   "source": [
    "- A variable created inside a function belongs to the local scope.\n",
    "- It is accessible only within that function and not outside of it.\n",
    "- Once the function execution completes, the local variables are destroyed.\n"
   ]
  },
  {
   "cell_type": "code",
   "execution_count": 19,
   "metadata": {},
   "outputs": [
    {
     "name": "stdout",
     "output_type": "stream",
     "text": [
      "I am local\n"
     ]
    },
    {
     "ename": "NameError",
     "evalue": "name 'local_variable' is not defined",
     "output_type": "error",
     "traceback": [
      "\u001b[1;31m---------------------------------------------------------------------------\u001b[0m",
      "\u001b[1;31mNameError\u001b[0m                                 Traceback (most recent call last)",
      "\u001b[1;32mc:\\Users\\nabee\\Desktop\\GDSC Python Online Bootcamp\\12_Functions.ipynb Cell 33\u001b[0m line \u001b[0;36m1\n\u001b[0;32m      <a href='vscode-notebook-cell:/c%3A/Users/nabee/Desktop/GDSC%20Python%20Online%20Bootcamp/12_Functions.ipynb#X43sZmlsZQ%3D%3D?line=6'>7</a>\u001b[0m example_function()\n\u001b[0;32m      <a href='vscode-notebook-cell:/c%3A/Users/nabee/Desktop/GDSC%20Python%20Online%20Bootcamp/12_Functions.ipynb#X43sZmlsZQ%3D%3D?line=8'>9</a>\u001b[0m \u001b[39m# Trying to access the local variable outside the function will result in an error\u001b[39;00m\n\u001b[1;32m---> <a href='vscode-notebook-cell:/c%3A/Users/nabee/Desktop/GDSC%20Python%20Online%20Bootcamp/12_Functions.ipynb#X43sZmlsZQ%3D%3D?line=9'>10</a>\u001b[0m \u001b[39mprint\u001b[39m(local_variable)  \u001b[39m# Uncommenting this line will raise an error\u001b[39;00m\n",
      "\u001b[1;31mNameError\u001b[0m: name 'local_variable' is not defined"
     ]
    }
   ],
   "source": [
    "def example_function():\n",
    "    local_variable = \"I am local\"\n",
    "    print(local_variable)\n",
    "\n",
    "\n",
    "# Call the function\n",
    "example_function()\n",
    "\n",
    "# Trying to access the local variable outside the function will result in an error\n",
    "# print(local_variable)  # Uncommenting this line will raise an error"
   ]
  },
  {
   "cell_type": "markdown",
   "metadata": {},
   "source": [
    "## Global Scope\n"
   ]
  },
  {
   "cell_type": "markdown",
   "metadata": {},
   "source": [
    "- A variable created outside of any function or block has a global scope.\n",
    "- It is accessible throughout the entire code, both inside and outside functions.\n",
    "- Global variables persist throughout the entire execution of the program.\n"
   ]
  },
  {
   "cell_type": "code",
   "execution_count": 20,
   "metadata": {},
   "outputs": [
    {
     "name": "stdout",
     "output_type": "stream",
     "text": [
      "I am global\n",
      "I am global\n"
     ]
    }
   ],
   "source": [
    "global_variable = \"I am global\"\n",
    "\n",
    "\n",
    "def print_global():\n",
    "    print(global_variable)\n",
    "\n",
    "\n",
    "# Call the function\n",
    "print_global()\n",
    "\n",
    "# Accessing the global variable outside the function\n",
    "print(global_variable)"
   ]
  },
  {
   "cell_type": "markdown",
   "metadata": {},
   "source": [
    "It's important to note that if a variable with the same name exists in both local and global scopes, the local variable takes precedence within its scope. However, the global variable remains unchanged.\n"
   ]
  },
  {
   "cell_type": "code",
   "execution_count": 23,
   "metadata": {},
   "outputs": [
    {
     "name": "stdout",
     "output_type": "stream",
     "text": [
      "Inside function: 5\n",
      "Outside function: 10\n"
     ]
    }
   ],
   "source": [
    "x = 10  # Global variable\n",
    "\n",
    "\n",
    "def example_function():\n",
    "    x = 5  # Local variable with the same name as the global variable\n",
    "    print(\"Inside function:\", x)\n",
    "\n",
    "\n",
    "example_function()\n",
    "print(\"Outside function:\", x)  # Prints the global variable value"
   ]
  },
  {
   "cell_type": "markdown",
   "metadata": {},
   "source": [
    "If you want to modify a global variable from within a function, you need to use the global keyword to indicate that you are working with the global variable, not creating a new local variable.\n"
   ]
  },
  {
   "cell_type": "code",
   "execution_count": 24,
   "metadata": {},
   "outputs": [
    {
     "name": "stdout",
     "output_type": "stream",
     "text": [
      "I am modified\n"
     ]
    }
   ],
   "source": [
    "name = \"I am global\"\n",
    "\n",
    "\n",
    "def modify_global():\n",
    "    global name\n",
    "    name = \"I am modified\"\n",
    "\n",
    "\n",
    "modify_global()\n",
    "print(name)  # Prints the modified global variable value"
   ]
  }
 ],
 "metadata": {
  "kernelspec": {
   "display_name": "Python 3",
   "language": "python",
   "name": "python3"
  },
  "language_info": {
   "codemirror_mode": {
    "name": "ipython",
    "version": 3
   },
   "file_extension": ".py",
   "mimetype": "text/x-python",
   "name": "python",
   "nbconvert_exporter": "python",
   "pygments_lexer": "ipython3",
   "version": "3.11.5"
  }
 },
 "nbformat": 4,
 "nbformat_minor": 2
}
