{
 "cells": [
  {
   "cell_type": "markdown",
   "metadata": {},
   "source": [
    "# Title: Python Operators\n"
   ]
  },
  {
   "cell_type": "markdown",
   "metadata": {},
   "source": [
    "### GDSC SSUET Python Bootcamp Online\n",
    "\n",
    "**Trainer: Mohammad Nabeel**\n",
    "\n",
    "- Website: [https://nabeelsohail2630.wixsite.com/portfolio](https://nabeelsohail2630.wixsite.com/portfolio)\n",
    "- Facebook: [https://www.facebook.com/NabeelDeveloper](https://www.facebook.com/NabeelDeveloper)\n",
    "- LinkedIn: [https://www.linkedin.com/in/nabeel-sohail-a63508200/](https://www.linkedin.com/in/nabeel-sohail-a63508200/)\n",
    "- GitHub: [https://github.com/NabeelSohail-30](https://github.com/NabeelSohail-30)\n",
    "- WhatsApp: +923453628868\n",
    "- Email: [nabeel.sohail2630@outlook.com](mailto:nabeel.sohail2630@outlook.com)\n"
   ]
  },
  {
   "cell_type": "markdown",
   "metadata": {},
   "source": [
    "## Python Arithmetic Operators\n"
   ]
  },
  {
   "cell_type": "markdown",
   "metadata": {},
   "source": [
    "Arithmetic operators are used to perform mathematical operations.\n"
   ]
  },
  {
   "cell_type": "code",
   "execution_count": 2,
   "metadata": {},
   "outputs": [
    {
     "name": "stdout",
     "output_type": "stream",
     "text": [
      "Addition: 8\n",
      "Subtraction: 5\n",
      "Multiplication: 24\n",
      "Division: 5.0\n",
      "Modulus: 1\n",
      "Exponentiation: 8\n"
     ]
    }
   ],
   "source": [
    "x = 5\n",
    "y = 3\n",
    "\n",
    "# Addition\n",
    "\n",
    "\n",
    "\n",
    "a = x+y\n",
    "\n",
    "\n",
    "print(\"Addition:\", a)\n",
    "\n",
    "\n",
    "\n",
    "# Subtraction\n",
    "\n",
    "\n",
    "b = 7 - 2\n",
    "\n",
    "\n",
    "print(\"Subtraction:\", b)\n",
    "\n",
    "\n",
    "\n",
    "# Multiplication\n",
    "\n",
    "\n",
    "c = 4 * 6\n",
    "\n",
    "\n",
    "print(\"Multiplication:\", c)\n",
    "\n",
    "\n",
    "\n",
    "# Division\n",
    "\n",
    "\n",
    "\n",
    "d = 10 / 2\n",
    "\n",
    "\n",
    "print(\"Division:\", d)\n",
    "\n",
    "\n",
    "\n",
    "# Modulus (Remainder)\n",
    "\n",
    "\n",
    "\n",
    "e = 15 % 7\n",
    "\n",
    "\n",
    "print(\"Modulus:\", e)\n",
    "\n",
    "\n",
    "\n",
    "# Exponentiation\n",
    "\n",
    "\n",
    "f = 2 ** 3\n",
    "\n",
    "\n",
    "print(\"Exponentiation:\", f)"
   ]
  },
  {
   "cell_type": "markdown",
   "metadata": {},
   "source": [
    "## Python Assignment Operators\n"
   ]
  },
  {
   "cell_type": "markdown",
   "metadata": {},
   "source": [
    "Assignment operators are used to assign values to variables.\n"
   ]
  },
  {
   "cell_type": "code",
   "execution_count": 3,
   "metadata": {},
   "outputs": [
    {
     "name": "stdout",
     "output_type": "stream",
     "text": [
      "Assignment: 10\n",
      "Add and Assign: 15\n",
      "Subtract and Assign: 12\n",
      "Multiply and Assign: 24\n",
      "Divide and Assign: 6.0\n"
     ]
    }
   ],
   "source": [
    "# Assignment\n",
    "x = 10\n",
    "print(\"Assignment:\", x)\n",
    "\n",
    "# Add and Assign\n",
    "x += 5  # x = x+5\n",
    "print(\"Add and Assign:\", x)\n",
    "\n",
    "# Subtract and Assign\n",
    "x -= 3  # x = x - 3\n",
    "print(\"Subtract and Assign:\", x)\n",
    "\n",
    "# Multiply and Assign\n",
    "x *= 2  # x = x*2\n",
    "print(\"Multiply and Assign:\", x)\n",
    "\n",
    "# Divide and Assign\n",
    "x /= 4  # x = x/4\n",
    "print(\"Divide and Assign:\", x)"
   ]
  },
  {
   "cell_type": "markdown",
   "metadata": {},
   "source": [
    "## Python Comparison Operators\n"
   ]
  },
  {
   "cell_type": "markdown",
   "metadata": {},
   "source": [
    "Comparison operators are used to compare values.\n"
   ]
  },
  {
   "cell_type": "code",
   "execution_count": 7,
   "metadata": {},
   "outputs": [
    {
     "name": "stdout",
     "output_type": "stream",
     "text": [
      "Equal to: False\n",
      "Not Equal to: True\n",
      "Greater than: False\n",
      "Less than: True\n",
      "Greater than or Equal to: True\n",
      "Less than or Equal to: False\n"
     ]
    }
   ],
   "source": [
    "# Equal to\n",
    "a = 5\n",
    "b = 8\n",
    "print(\"Equal to:\", a == b)\n",
    "\n",
    "# Not Equal to\n",
    "x = 10\n",
    "y = 20\n",
    "print(\"Not Equal to:\", x != y)\n",
    "\n",
    "# Greater than\n",
    "m = 15\n",
    "n = 105\n",
    "print(\"Greater than:\", m > n)\n",
    "\n",
    "# Less than\n",
    "p = 8\n",
    "q = 12\n",
    "print(\"Less than:\", p < q)\n",
    "\n",
    "# Greater than or Equal to\n",
    "r = 10\n",
    "s = 10\n",
    "print(\"Greater than or Equal to:\", r >= s)\n",
    "\n",
    "# Less than or Equal to\n",
    "t = 150\n",
    "u = 20\n",
    "print(\"Less than or Equal to:\", t <= u)"
   ]
  },
  {
   "cell_type": "markdown",
   "metadata": {},
   "source": [
    "## Python Logical Operators\n"
   ]
  },
  {
   "cell_type": "markdown",
   "metadata": {},
   "source": [
    "Logical operators are used to combine conditional statements.\n"
   ]
  },
  {
   "cell_type": "code",
   "execution_count": 8,
   "metadata": {},
   "outputs": [
    {
     "name": "stdout",
     "output_type": "stream",
     "text": [
      "Logical AND: False\n",
      "Logical AND: True\n",
      "Logical OR: True\n",
      "Logical OR: True\n",
      "Logical NOT: False\n",
      "Logical NOT: True\n"
     ]
    }
   ],
   "source": [
    "# Logical AND, Returns True if both statements are true\n",
    "a = True\n",
    "b = False\n",
    "print(\"Logical AND:\", a and b)\n",
    "print(\"Logical AND:\", 10 < 15 and 100 >= 10)\n",
    "\n",
    "# Logical OR, Returns True if one of the statements is true\n",
    "x = True\n",
    "y = False\n",
    "print(\"Logical OR:\", x or y)\n",
    "print(\"Logical OR:\", 0 < 15 or 0 > 10)\n",
    "\n",
    "# Logical NOT, Reverse the result, returns False if the result is true\n",
    "p = True\n",
    "print(\"Logical NOT:\", not p)\n",
    "print(\"Logical NOT:\", not 10 > 15)"
   ]
  },
  {
   "cell_type": "markdown",
   "metadata": {},
   "source": [
    "## Operators Precedence\n"
   ]
  },
  {
   "cell_type": "markdown",
   "metadata": {},
   "source": [
    "Operator precedence in python follows the PEMDAS rule for arithmetic expressions. The precedence of operators is listed below in a high to low manner.\n",
    "\n",
    "Firstly, parantheses will be evaluated, then exponentiation and so on.\n",
    "\n",
    "P – Parentheses\n",
    "E – Exponentiation\n",
    "M – Multiplication\n",
    "D – Division\n",
    "A – Addition\n",
    "S – Subtraction\n",
    "\n",
    "In the case of tie means, if two operators whose precedence is equal appear in the expression, then the left to right rule is followed.\n"
   ]
  },
  {
   "cell_type": "code",
   "execution_count": 9,
   "metadata": {},
   "outputs": [
    {
     "name": "stdout",
     "output_type": "stream",
     "text": [
      "Result: 42.5\n"
     ]
    }
   ],
   "source": [
    "# Operator Precedence\n",
    "result = 5 + 3 * 2 * 5 ** 2 / 4\n",
    "print(\"Result:\", result)"
   ]
  }
 ],
 "metadata": {
  "kernelspec": {
   "display_name": "Python 3",
   "language": "python",
   "name": "python3"
  },
  "language_info": {
   "codemirror_mode": {
    "name": "ipython",
    "version": 3
   },
   "file_extension": ".py",
   "mimetype": "text/x-python",
   "name": "python",
   "nbconvert_exporter": "python",
   "pygments_lexer": "ipython3",
   "version": "3.11.5"
  }
 },
 "nbformat": 4,
 "nbformat_minor": 2
}
