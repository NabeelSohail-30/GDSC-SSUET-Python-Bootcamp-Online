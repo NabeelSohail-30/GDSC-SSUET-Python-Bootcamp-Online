{
 "cells": [
  {
   "cell_type": "markdown",
   "metadata": {},
   "source": [
    "# Title: Introduction to Python Programming\n"
   ]
  },
  {
   "cell_type": "markdown",
   "metadata": {},
   "source": [
    "### GDSC SSUET Python Bootcamp Online\n",
    "\n",
    "**Trainer: Mohammad Nabeel**\n",
    "\n",
    "- Website: [https://nabeelsohail2630.wixsite.com/portfolio](https://nabeelsohail2630.wixsite.com/portfolio)\n",
    "- Facebook: [https://www.facebook.com/NabeelDeveloper](https://www.facebook.com/NabeelDeveloper)\n",
    "- LinkedIn: [https://www.linkedin.com/in/nabeel-sohail-a63508200/](https://www.linkedin.com/in/nabeel-sohail-a63508200/)\n",
    "- GitHub: [https://github.com/NabeelSohail-30](https://github.com/NabeelSohail-30)\n",
    "- WhatsApp: +923453628868\n",
    "- Email: [nabeel.sohail2630@outlook.com](mailto:nabeel.sohail2630@outlook.com)\n"
   ]
  },
  {
   "cell_type": "markdown",
   "metadata": {},
   "source": [
    "## What is Python?\n"
   ]
  },
  {
   "cell_type": "markdown",
   "metadata": {},
   "source": [
    "Python is a high-level, interpreted programming language known for its readability and versatility. It was created by Guido van Rossum and first released in 1991. Python supports multiple programming paradigms, including procedural, object-oriented, and functional programming.\n"
   ]
  },
  {
   "cell_type": "markdown",
   "metadata": {},
   "source": [
    "## Short History\n"
   ]
  },
  {
   "cell_type": "markdown",
   "metadata": {},
   "source": [
    "- Python was conceived in the late 1980s by Guido van Rossum.\n",
    "- The first official Python release, Python 0.9.0, occurred in 1991.\n",
    "- Python 2 and Python 3 are major versions coexisting for a period, with Python 2 officially reaching end-of-life in 2020.\n",
    "- Python has a large and active community of developers, contributing to its continuous improvement.\n"
   ]
  },
  {
   "cell_type": "markdown",
   "metadata": {},
   "source": [
    "## Uses of Python\n"
   ]
  },
  {
   "cell_type": "markdown",
   "metadata": {},
   "source": [
    "Python is employed in various domains, including but not limited to:\n",
    "\n",
    "- Web development\n",
    "- Data science and machine learning\n",
    "- Artificial intelligence\n",
    "- Automation and scripting\n"
   ]
  },
  {
   "cell_type": "markdown",
   "metadata": {},
   "source": [
    "## Why Python?\n"
   ]
  },
  {
   "cell_type": "markdown",
   "metadata": {},
   "source": [
    "- **Readability**: Python's syntax is clear and expressive, making it easy to read and write code.\n",
    "- **Versatility**: Python can be used for a wide range of applications, from simple scripts to complex web applications.\n",
    "- **Community Support**: A vast community of developers contributes to a rich ecosystem of libraries and frameworks.\n",
    "- **Cross-Platform Compatibility**: Python is available on different platforms, including Windows, macOS, and Linux.\n"
   ]
  }
 ],
 "metadata": {
  "language_info": {
   "name": "python"
  }
 },
 "nbformat": 4,
 "nbformat_minor": 2
}
