{
 "cells": [
  {
   "cell_type": "markdown",
   "metadata": {},
   "source": [
    "# Title: Variables and Data Types in Python\n"
   ]
  },
  {
   "cell_type": "markdown",
   "metadata": {},
   "source": [
    "### GDSC SSUET Python Bootcamp Online\n",
    "\n",
    "**Trainer: Mohammad Nabeel**\n",
    "\n",
    "- Website: [https://nabeelsohail2630.wixsite.com/portfolio](https://nabeelsohail2630.wixsite.com/portfolio)\n",
    "- Facebook: [https://www.facebook.com/NabeelDeveloper](https://www.facebook.com/NabeelDeveloper)\n",
    "- LinkedIn: [https://www.linkedin.com/in/nabeel-sohail-a63508200/](https://www.linkedin.com/in/nabeel-sohail-a63508200/)\n",
    "- GitHub: [https://github.com/NabeelSohail-30](https://github.com/NabeelSohail-30)\n",
    "- WhatsApp: +923453628868\n",
    "- Email: [nabeel.sohail2630@outlook.com](mailto:nabeel.sohail2630@outlook.com)\n"
   ]
  },
  {
   "cell_type": "markdown",
   "metadata": {},
   "source": [
    "## Variables in Python\n"
   ]
  },
  {
   "cell_type": "markdown",
   "metadata": {},
   "source": [
    "Variables are used to store and manage data. In Python, you can create a variable and assign a value to it.\n"
   ]
  },
  {
   "cell_type": "code",
   "execution_count": 4,
   "metadata": {},
   "outputs": [
    {
     "name": "stdout",
     "output_type": "stream",
     "text": [
      "108\n",
      "98\n"
     ]
    }
   ],
   "source": [
    "my_variable = 108\n",
    "print(my_variable)\n",
    "my_variable = 98\n",
    "print(my_variable)"
   ]
  },
  {
   "cell_type": "markdown",
   "metadata": {},
   "source": [
    "## Data Types in Python\n"
   ]
  },
  {
   "cell_type": "markdown",
   "metadata": {},
   "source": [
    "Python has several built-in data types, including integers (int), floating-point numbers (float), strings (str), and booleans (bool).\n"
   ]
  },
  {
   "cell_type": "code",
   "execution_count": 7,
   "metadata": {},
   "outputs": [
    {
     "name": "stdout",
     "output_type": "stream",
     "text": [
      "42\n",
      "3.14\n",
      "Hello, Python!\n",
      "False\n"
     ]
    }
   ],
   "source": [
    "integer_variable = 42\n",
    "float_variable = 3.14\n",
    "string_variable = \"Hello, Python!\"\n",
    "string_variable = 'Hello, Python!'\n",
    "bool_variable = False\n",
    "print(integer_variable)\n",
    "print(float_variable)\n",
    "print(string_variable)\n",
    "print(bool_variable)"
   ]
  },
  {
   "cell_type": "markdown",
   "metadata": {},
   "source": [
    "## Rules for Naming a Python Variable\n"
   ]
  },
  {
   "cell_type": "markdown",
   "metadata": {},
   "source": [
    "In Python, variable names must follow certain rules. They can include letters, numbers, and underscores but must start with a letter or underscore. Python supports camel case, Pascal case, and snake case for variable naming.\n"
   ]
  },
  {
   "cell_type": "code",
   "execution_count": 12,
   "metadata": {},
   "outputs": [
    {
     "name": "stdout",
     "output_type": "stream",
     "text": [
      "10\n"
     ]
    }
   ],
   "source": [
    "camelCaseVariable = 1\n",
    "PascalCaseVariable = 2\n",
    "snake_case_variable = 3\n",
    "my_variable1 = 10\n",
    "print(my_variable1)"
   ]
  },
  {
   "cell_type": "markdown",
   "metadata": {},
   "source": [
    "## How to Check the Type of a Variable\n"
   ]
  },
  {
   "cell_type": "markdown",
   "metadata": {},
   "source": [
    "You can use the type() function to check the type of a variable.\n"
   ]
  },
  {
   "cell_type": "code",
   "execution_count": 15,
   "metadata": {},
   "outputs": [
    {
     "name": "stdout",
     "output_type": "stream",
     "text": [
      "<class 'str'>\n"
     ]
    }
   ],
   "source": [
    "# Example of checking variable type\n",
    "integer_variable = 42\n",
    "print(type(integer_variable))  # Output: <class 'int'>"
   ]
  },
  {
   "cell_type": "markdown",
   "metadata": {},
   "source": [
    "## Taking Input from User\n"
   ]
  },
  {
   "cell_type": "code",
   "execution_count": 17,
   "metadata": {},
   "outputs": [
    {
     "name": "stdout",
     "output_type": "stream",
     "text": [
      "User Name: Nabeel\n"
     ]
    }
   ],
   "source": [
    "# Example of taking input from the user\n",
    "user_input = input(\"Enter your name: \")\n",
    "print(\"User Name:\", user_input)"
   ]
  },
  {
   "cell_type": "markdown",
   "metadata": {},
   "source": [
    "## Type Conversion\n"
   ]
  },
  {
   "cell_type": "markdown",
   "metadata": {},
   "source": [
    "You can convert between different data types using functions like int(), float(), str(), etc.\n"
   ]
  },
  {
   "cell_type": "code",
   "execution_count": 19,
   "metadata": {},
   "outputs": [
    {
     "name": "stdout",
     "output_type": "stream",
     "text": [
      "<class 'int'>\n",
      "<class 'float'>\n",
      "42.0\n",
      "<class 'float'>\n",
      "3.14\n",
      "<class 'str'>\n"
     ]
    }
   ],
   "source": [
    "# Example of type conversion\n",
    "integer_variable = 42\n",
    "float_variable = 3.14\n",
    "print(type(integer_variable))\n",
    "print(type(float_variable))\n",
    "float_result = float(integer_variable)\n",
    "string_result = str(float_variable)\n",
    "print(float_result)\n",
    "print(type(float_result))\n",
    "print(string_result)\n",
    "print(type(string_result))"
   ]
  },
  {
   "cell_type": "code",
   "execution_count": 32,
   "metadata": {},
   "outputs": [
    {
     "name": "stdout",
     "output_type": "stream",
     "text": [
      "<class 'int'>\n",
      "<class 'float'>\n",
      "10\n",
      "<class 'str'>\n",
      "2\n",
      "<class 'int'>\n"
     ]
    }
   ],
   "source": [
    "a = 10\n",
    "b = 2.34\n",
    "\n",
    "print(type(a))\n",
    "print(type(b))\n",
    "\n",
    "c = str(a)\n",
    "d = int(b)\n",
    "\n",
    "print(c)\n",
    "print(type(c))\n",
    "print(d)\n",
    "print(type(d))\n",
    "\n",
    "my_var = \"10\"\n",
    "my_var_2 = int(my_var)"
   ]
  },
  {
   "cell_type": "markdown",
   "metadata": {},
   "source": [
    "## Specify a Variable Type\n"
   ]
  },
  {
   "cell_type": "markdown",
   "metadata": {},
   "source": [
    "In Python, variables are dynamically typed, but you can explicitly specify the type using type annotations.\n"
   ]
  },
  {
   "cell_type": "code",
   "execution_count": 22,
   "metadata": {},
   "outputs": [
    {
     "name": "stdout",
     "output_type": "stream",
     "text": [
      "5\n",
      "<class 'int'>\n"
     ]
    }
   ],
   "source": [
    "# Example of specifying variable type\n",
    "explicitly_typed_variable: int = 5\n",
    "print(explicitly_typed_variable)\n",
    "print(type(explicitly_typed_variable))\n",
    "# explicitly_typed_variable = \"hello\"\n",
    "# print(type(explicitly_typed_variable))"
   ]
  },
  {
   "cell_type": "markdown",
   "metadata": {},
   "source": [
    "## Many Values to Multiple Variables\n"
   ]
  },
  {
   "cell_type": "code",
   "execution_count": 23,
   "metadata": {},
   "outputs": [
    {
     "name": "stdout",
     "output_type": "stream",
     "text": [
      "1\n",
      "2\n",
      "3\n"
     ]
    }
   ],
   "source": [
    "# a = 1\n",
    "# b = 2\n",
    "# c = 3\n",
    "\n",
    "# Example of multiple assignments\n",
    "\n",
    "\n",
    "a, b, c = 1, 2, 3\n",
    "\n",
    "\n",
    "print(a)\n",
    "\n",
    "\n",
    "print(b)\n",
    "\n",
    "\n",
    "print(c)"
   ]
  },
  {
   "cell_type": "markdown",
   "metadata": {},
   "source": [
    "## One Value to Multiple Variables\n"
   ]
  },
  {
   "cell_type": "code",
   "execution_count": 25,
   "metadata": {},
   "outputs": [
    {
     "name": "stdout",
     "output_type": "stream",
     "text": [
      "10\n",
      "10\n",
      "10\n"
     ]
    }
   ],
   "source": [
    "# x = 10\n",
    "# y = 10\n",
    "# z = 10\n",
    "\n",
    "# Example of single value to multiple variables\n",
    "\n",
    "\n",
    "x = y = z = 10\n",
    "\n",
    "\n",
    "print(x)\n",
    "\n",
    "\n",
    "print(y)\n",
    "\n",
    "\n",
    "print(z)"
   ]
  },
  {
   "cell_type": "code",
   "execution_count": 29,
   "metadata": {},
   "outputs": [
    {
     "name": "stdout",
     "output_type": "stream",
     "text": [
      "Outputting multiple variables:,1,2,3\n"
     ]
    }
   ],
   "source": [
    "print(\"Outputting multiple variables:\", a, b, c, sep=\",\")"
   ]
  }
 ],
 "metadata": {
  "kernelspec": {
   "display_name": "Python 3",
   "language": "python",
   "name": "python3"
  },
  "language_info": {
   "codemirror_mode": {
    "name": "ipython",
    "version": 3
   },
   "file_extension": ".py",
   "mimetype": "text/x-python",
   "name": "python",
   "nbconvert_exporter": "python",
   "pygments_lexer": "ipython3",
   "version": "3.11.5"
  }
 },
 "nbformat": 4,
 "nbformat_minor": 2
}
