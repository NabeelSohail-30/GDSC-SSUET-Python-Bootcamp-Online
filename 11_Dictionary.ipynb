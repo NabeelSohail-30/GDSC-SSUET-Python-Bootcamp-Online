{
 "cells": [
  {
   "cell_type": "markdown",
   "metadata": {},
   "source": [
    "# Title: Python Dictionaries\n"
   ]
  },
  {
   "cell_type": "markdown",
   "metadata": {},
   "source": [
    "## Dictionaries in Python\n"
   ]
  },
  {
   "cell_type": "markdown",
   "metadata": {},
   "source": [
    "- A dictionary is an unordered collection of key-value pairs.\n",
    "- Dictionaries are used to store data values in key:value pairs.\n",
    "- A dictionary is a collection which is ordered\\*, changeable and do not allow duplicates.\n",
    "- Dictionaries are written with curly brackets, and have keys and values:\n",
    "- Dictionary items are ordered, changeable, and does not allow duplicates.\n",
    "- Dictionary items are presented in key:value pairs, and can be referred to by using the key name.\n",
    "- When we say that dictionaries are ordered, it means that the items have a defined order, and that order will not change.\n",
    "- Unordered means that the items does not have a defined order, you cannot refer to an item by using an index.\n",
    "- Dictionaries are changeable, meaning that we can change, add or remove items after the dictionary has been created.\n"
   ]
  },
  {
   "cell_type": "markdown",
   "metadata": {},
   "source": [
    "## Creating a dictionary\n"
   ]
  },
  {
   "cell_type": "code",
   "execution_count": 20,
   "metadata": {},
   "outputs": [
    {
     "name": "stdout",
     "output_type": "stream",
     "text": [
      "{'name': 'John', 'age': 25, 'city': 'New York', 'salary': 2500.0}\n"
     ]
    }
   ],
   "source": [
    "my_dict = {\n",
    "    'name': 'John',\n",
    "    'age': 25,\n",
    "    'city': 'New York',\n",
    "    'salary': 2500.0\n",
    "}\n",
    "\n",
    "print(my_dict)"
   ]
  },
  {
   "cell_type": "markdown",
   "metadata": {},
   "source": [
    "## Dictionary Length\n"
   ]
  },
  {
   "cell_type": "markdown",
   "metadata": {},
   "source": [
    "To find the number of key-value pairs in a dictionary, use the len() function.\n"
   ]
  },
  {
   "cell_type": "code",
   "execution_count": 21,
   "metadata": {},
   "outputs": [
    {
     "name": "stdout",
     "output_type": "stream",
     "text": [
      "Length of the dictionary: 4\n"
     ]
    }
   ],
   "source": [
    "dict_length = len(my_dict)\n",
    "print(\"Length of the dictionary:\", dict_length)"
   ]
  },
  {
   "cell_type": "markdown",
   "metadata": {},
   "source": [
    "## Dictionary Items - Data Types\n"
   ]
  },
  {
   "cell_type": "markdown",
   "metadata": {},
   "source": [
    "Dictionary values can be of any data type.\n"
   ]
  },
  {
   "cell_type": "code",
   "execution_count": 22,
   "metadata": {},
   "outputs": [
    {
     "name": "stdout",
     "output_type": "stream",
     "text": [
      "Dictionary with different data types: {'string': 'hello', 'integer': 42, 'float': 3.14, 'boolean': True, 'list': [1, 2, 3]}\n"
     ]
    }
   ],
   "source": [
    "data_types_dict = {\n",
    "    'string': 'hello',\n",
    "    'integer': 42,\n",
    "    'float': 3.14,\n",
    "    'boolean': True,\n",
    "    'list': [1, 2, 3]\n",
    "}\n",
    "print(\"Dictionary with different data types:\", data_types_dict)"
   ]
  },
  {
   "cell_type": "markdown",
   "metadata": {},
   "source": [
    "## Accessing Items\n"
   ]
  },
  {
   "cell_type": "markdown",
   "metadata": {},
   "source": [
    "You can access the value of a key using square brackets.\n"
   ]
  },
  {
   "cell_type": "code",
   "execution_count": 25,
   "metadata": {},
   "outputs": [
    {
     "name": "stdout",
     "output_type": "stream",
     "text": [
      "Value for 'name' key: John\n"
     ]
    }
   ],
   "source": [
    "name_value = my_dict['name']\n",
    "print(\"Value for 'name' key:\", name_value)"
   ]
  },
  {
   "cell_type": "markdown",
   "metadata": {},
   "source": [
    "## Get Keys\n"
   ]
  },
  {
   "cell_type": "markdown",
   "metadata": {},
   "source": [
    "To get a list of all keys in a dictionary, use the keys() method.\n"
   ]
  },
  {
   "cell_type": "code",
   "execution_count": 26,
   "metadata": {},
   "outputs": [
    {
     "name": "stdout",
     "output_type": "stream",
     "text": [
      "Keys in the dictionary: dict_keys(['name', 'age', 'city', 'salary'])\n"
     ]
    }
   ],
   "source": [
    "keys_list = my_dict.keys()\n",
    "print(\"Keys in the dictionary:\", keys_list)"
   ]
  },
  {
   "cell_type": "markdown",
   "metadata": {},
   "source": [
    "## Get Values\n"
   ]
  },
  {
   "cell_type": "markdown",
   "metadata": {},
   "source": [
    "To get a list of all values in a dictionary, use the values() method.\n"
   ]
  },
  {
   "cell_type": "code",
   "execution_count": 27,
   "metadata": {},
   "outputs": [
    {
     "name": "stdout",
     "output_type": "stream",
     "text": [
      "Values in the dictionary: dict_values(['John', 25, 'New York', 2500.0])\n"
     ]
    }
   ],
   "source": [
    "values_list = my_dict.values()\n",
    "print(\"Values in the dictionary:\", values_list)"
   ]
  },
  {
   "cell_type": "markdown",
   "metadata": {},
   "source": [
    "## Get Items\n"
   ]
  },
  {
   "cell_type": "markdown",
   "metadata": {},
   "source": [
    "To get a list of all key-value pairs in a dictionary, use the items() method.\n"
   ]
  },
  {
   "cell_type": "code",
   "execution_count": 28,
   "metadata": {},
   "outputs": [
    {
     "name": "stdout",
     "output_type": "stream",
     "text": [
      "Items in the dictionary: dict_items([('name', 'John'), ('age', 25), ('city', 'New York'), ('salary', 2500.0)])\n"
     ]
    }
   ],
   "source": [
    "items_list = my_dict.items()\n",
    "print(\"Items in the dictionary:\", items_list)"
   ]
  },
  {
   "cell_type": "markdown",
   "metadata": {},
   "source": [
    "## Check if Key Exists\n"
   ]
  },
  {
   "cell_type": "markdown",
   "metadata": {},
   "source": [
    "You can use the `in` operator to check if a key exists in a dictionary.\n"
   ]
  },
  {
   "cell_type": "code",
   "execution_count": 30,
   "metadata": {},
   "outputs": [
    {
     "name": "stdout",
     "output_type": "stream",
     "text": [
      "'number' key does not exist in the dictionary.\n"
     ]
    }
   ],
   "source": [
    "if 'number' in my_dict:\n",
    "    print(\"'number' key exists in the dictionary.\")\n",
    "else:\n",
    "    print(\"'number' key does not exist in the dictionary.\")"
   ]
  },
  {
   "cell_type": "markdown",
   "metadata": {},
   "source": [
    "## Change Values\n"
   ]
  },
  {
   "cell_type": "markdown",
   "metadata": {},
   "source": [
    "You can change the value of a key by assigning a new value to it.\n"
   ]
  },
  {
   "cell_type": "code",
   "execution_count": 31,
   "metadata": {},
   "outputs": [
    {
     "name": "stdout",
     "output_type": "stream",
     "text": [
      "Updated dictionary: {'name': 'John', 'age': 26, 'city': 'New York', 'salary': 2500.0}\n"
     ]
    }
   ],
   "source": [
    "my_dict['age'] = 26\n",
    "print(\"Updated dictionary:\", my_dict)"
   ]
  },
  {
   "cell_type": "markdown",
   "metadata": {},
   "source": [
    "## Update Dictionary\n"
   ]
  },
  {
   "cell_type": "markdown",
   "metadata": {},
   "source": [
    "To update a dictionary with another dictionary, use the update() method.\n"
   ]
  },
  {
   "cell_type": "code",
   "execution_count": 32,
   "metadata": {},
   "outputs": [
    {
     "name": "stdout",
     "output_type": "stream",
     "text": [
      "Dictionary after update: {'name': 'John', 'age': 26, 'city': 'San Francisco', 'salary': 2500.0, 'gender': 'Male'}\n"
     ]
    }
   ],
   "source": [
    "update_dict = {'city': 'San Francisco', 'gender': 'Male'}\n",
    "my_dict.update(update_dict)\n",
    "print(\"Dictionary after update:\", my_dict)"
   ]
  },
  {
   "cell_type": "markdown",
   "metadata": {},
   "source": [
    "## Adding Items\n"
   ]
  },
  {
   "cell_type": "markdown",
   "metadata": {},
   "source": [
    "To add a new key-value pair to a dictionary, simply assign a value to a new key.\n"
   ]
  },
  {
   "cell_type": "code",
   "execution_count": 33,
   "metadata": {},
   "outputs": [
    {
     "name": "stdout",
     "output_type": "stream",
     "text": [
      "Dictionary after adding a new key-value pair: {'name': 'John', 'age': 26, 'city': 'San Francisco', 'salary': 2500.0, 'gender': 'Male', 'occupation': 'Engineer'}\n"
     ]
    }
   ],
   "source": [
    "my_dict['occupation'] = 'Engineer'\n",
    "print(\"Dictionary after adding a new key-value pair:\", my_dict)"
   ]
  },
  {
   "cell_type": "markdown",
   "metadata": {},
   "source": [
    "## Removing Items\n"
   ]
  },
  {
   "cell_type": "markdown",
   "metadata": {},
   "source": [
    "There are several methods to remove items from a dictionary.\n"
   ]
  },
  {
   "cell_type": "code",
   "execution_count": 36,
   "metadata": {},
   "outputs": [
    {
     "name": "stdout",
     "output_type": "stream",
     "text": [
      "Removed last item using popitem(): ('occupation', 'Engineer')\n",
      "Dictionary after popitem(): {'name': 'John', 'age': 26, 'city': 'San Francisco', 'salary': 2500.0}\n"
     ]
    }
   ],
   "source": [
    "# Using the pop() method to remove a key-value pair by key.\n",
    "# removed_value = my_dict.pop('gender')\n",
    "# print(\"Removed value using pop():\", removed_value)\n",
    "# print(\"Dictionary after pop():\", my_dict)\n",
    "\n",
    "# Using the popitem() method to remove the last key-value pair.\n",
    "last_item = my_dict.popitem()\n",
    "print(\"Removed last item using popitem():\", last_item)\n",
    "print(\"Dictionary after popitem():\", my_dict)\n",
    "\n",
    "# # Using the clear() method to remove all key-value pairs.\n",
    "# my_dict.clear()\n",
    "# print(\"Dictionary after clear():\", my_dict)"
   ]
  },
  {
   "cell_type": "markdown",
   "metadata": {},
   "source": [
    "## Loop Through a Dictionary\n"
   ]
  },
  {
   "cell_type": "markdown",
   "metadata": {},
   "source": [
    "You can use a for loop to iterate through each key-value pair in the dictionary.\n"
   ]
  },
  {
   "cell_type": "code",
   "execution_count": 37,
   "metadata": {},
   "outputs": [
    {
     "name": "stdout",
     "output_type": "stream",
     "text": [
      "Key: name, Value: John\n",
      "Key: age, Value: 26\n",
      "Key: city, Value: San Francisco\n",
      "Key: salary, Value: 2500.0\n"
     ]
    }
   ],
   "source": [
    "for key, value in my_dict.items():\n",
    "    print(f\"Key: {key}, Value: {value}\")"
   ]
  },
  {
   "cell_type": "markdown",
   "metadata": {},
   "source": [
    "## Copy a Dictionary\n"
   ]
  },
  {
   "cell_type": "markdown",
   "metadata": {},
   "source": [
    "To create a copy of a dictionary, use the copy() method or the dict() constructor.\n"
   ]
  },
  {
   "cell_type": "code",
   "execution_count": 38,
   "metadata": {},
   "outputs": [
    {
     "name": "stdout",
     "output_type": "stream",
     "text": [
      "Copy of the dictionary: {'x': 10, 'y': 20, 'z': 30}\n",
      "Another copy of the dictionary: {'x': 10, 'y': 20, 'z': 30}\n"
     ]
    }
   ],
   "source": [
    "original_dict = {'x': 10, 'y': 20, 'z': 30}\n",
    "copy_dict = original_dict.copy()\n",
    "print(\"Copy of the dictionary:\", copy_dict)\n",
    "\n",
    "# Alternatively,\n",
    "copied_dict = dict(original_dict)\n",
    "print(\"Another copy of the dictionary:\", copied_dict)"
   ]
  }
 ],
 "metadata": {
  "kernelspec": {
   "display_name": "Python 3",
   "language": "python",
   "name": "python3"
  },
  "language_info": {
   "codemirror_mode": {
    "name": "ipython",
    "version": 3
   },
   "file_extension": ".py",
   "mimetype": "text/x-python",
   "name": "python",
   "nbconvert_exporter": "python",
   "pygments_lexer": "ipython3",
   "version": "3.11.5"
  }
 },
 "nbformat": 4,
 "nbformat_minor": 2
}
