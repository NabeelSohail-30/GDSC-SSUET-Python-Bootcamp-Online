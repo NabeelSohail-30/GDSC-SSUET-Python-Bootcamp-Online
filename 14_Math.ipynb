{
 "cells": [
  {
   "cell_type": "markdown",
   "metadata": {},
   "source": [
    "# Title: Math Module\n"
   ]
  },
  {
   "cell_type": "markdown",
   "metadata": {},
   "source": [
    "## Import the math module\n"
   ]
  },
  {
   "cell_type": "code",
   "execution_count": 1,
   "metadata": {},
   "outputs": [],
   "source": [
    "import math"
   ]
  },
  {
   "cell_type": "markdown",
   "metadata": {},
   "source": [
    "## Built-in Math Functions\n"
   ]
  },
  {
   "cell_type": "markdown",
   "metadata": {},
   "source": [
    "Python has several built-in math functions that you can use without importing any module.\n"
   ]
  },
  {
   "cell_type": "markdown",
   "metadata": {},
   "source": [
    "### Absolute Value\n"
   ]
  },
  {
   "cell_type": "code",
   "execution_count": 13,
   "metadata": {},
   "outputs": [
    {
     "name": "stdout",
     "output_type": "stream",
     "text": [
      "Absolute Value: 5.54\n"
     ]
    }
   ],
   "source": [
    "absolute_value = abs(-5)\n",
    "print(\"Absolute Value:\", absolute_value)"
   ]
  },
  {
   "cell_type": "markdown",
   "metadata": {},
   "source": [
    "### Power\n"
   ]
  },
  {
   "cell_type": "code",
   "execution_count": 3,
   "metadata": {},
   "outputs": [
    {
     "name": "stdout",
     "output_type": "stream",
     "text": [
      "Power Result: 8\n"
     ]
    }
   ],
   "source": [
    "power_result = pow(2, 3)\n",
    "print(\"Power Result:\", power_result)"
   ]
  },
  {
   "cell_type": "markdown",
   "metadata": {},
   "source": [
    "### Round\n"
   ]
  },
  {
   "cell_type": "code",
   "execution_count": 4,
   "metadata": {},
   "outputs": [
    {
     "name": "stdout",
     "output_type": "stream",
     "text": [
      "Rounded Value: 3.14\n"
     ]
    }
   ],
   "source": [
    "rounded_value = round(3.14159, 2)\n",
    "print(\"Rounded Value:\", rounded_value)"
   ]
  },
  {
   "cell_type": "markdown",
   "metadata": {},
   "source": [
    "### Maximum and Minimum\n"
   ]
  },
  {
   "cell_type": "code",
   "execution_count": 5,
   "metadata": {},
   "outputs": [
    {
     "name": "stdout",
     "output_type": "stream",
     "text": [
      "Maximum Value: 9\n",
      "Minimum Value: 2\n"
     ]
    }
   ],
   "source": [
    "max_value = max(4, 7, 2, 9)\n",
    "min_value = min(4, 7, 2, 9)\n",
    "print(\"Maximum Value:\", max_value)\n",
    "print(\"Minimum Value:\", min_value)"
   ]
  },
  {
   "cell_type": "markdown",
   "metadata": {},
   "source": [
    "### Sum\n"
   ]
  },
  {
   "cell_type": "code",
   "execution_count": 6,
   "metadata": {},
   "outputs": [
    {
     "name": "stdout",
     "output_type": "stream",
     "text": [
      "Sum of Values: 15\n"
     ]
    }
   ],
   "source": [
    "sum_values = sum([1, 2, 3, 4, 5])\n",
    "print(\"Sum of Values:\", sum_values)"
   ]
  },
  {
   "cell_type": "markdown",
   "metadata": {},
   "source": [
    "### Square Root\n"
   ]
  },
  {
   "cell_type": "code",
   "execution_count": 7,
   "metadata": {},
   "outputs": [
    {
     "name": "stdout",
     "output_type": "stream",
     "text": [
      "Square Root Result: 5.0\n"
     ]
    }
   ],
   "source": [
    "sqrt_result = math.sqrt(25)\n",
    "print(\"Square Root Result:\", sqrt_result)"
   ]
  },
  {
   "cell_type": "markdown",
   "metadata": {},
   "source": [
    "### Trigonometric Functions\n"
   ]
  },
  {
   "cell_type": "code",
   "execution_count": 8,
   "metadata": {},
   "outputs": [
    {
     "name": "stdout",
     "output_type": "stream",
     "text": [
      "Sine Value: 0.49999999999999994\n",
      "Cosine Value: 0.5000000000000001\n"
     ]
    }
   ],
   "source": [
    "sin_value = math.sin(math.radians(30))  # Convert degrees to radians\n",
    "cos_value = math.cos(math.radians(60))\n",
    "print(\"Sine Value:\", sin_value)\n",
    "print(\"Cosine Value:\", cos_value)"
   ]
  },
  {
   "cell_type": "markdown",
   "metadata": {},
   "source": [
    "### Logarithmic Functions\n"
   ]
  },
  {
   "cell_type": "code",
   "execution_count": 9,
   "metadata": {},
   "outputs": [
    {
     "name": "stdout",
     "output_type": "stream",
     "text": [
      "Logarithmic Result: 4.0\n"
     ]
    }
   ],
   "source": [
    "log_result = math.log(16, 2)  # Logarithm of 16 to the base 2\n",
    "print(\"Logarithmic Result:\", log_result)"
   ]
  },
  {
   "cell_type": "markdown",
   "metadata": {},
   "source": [
    "### Constants\n"
   ]
  },
  {
   "cell_type": "code",
   "execution_count": 10,
   "metadata": {},
   "outputs": [
    {
     "name": "stdout",
     "output_type": "stream",
     "text": [
      "Value of Pi: 3.141592653589793\n",
      "Value of Euler's number (e): 2.718281828459045\n"
     ]
    }
   ],
   "source": [
    "pi_value = math.pi\n",
    "e_value = math.e\n",
    "print(\"Value of Pi:\", pi_value)\n",
    "print(\"Value of Euler's number (e):\", e_value)"
   ]
  },
  {
   "cell_type": "markdown",
   "metadata": {},
   "source": [
    "### Factorial\n"
   ]
  },
  {
   "cell_type": "code",
   "execution_count": 11,
   "metadata": {},
   "outputs": [
    {
     "name": "stdout",
     "output_type": "stream",
     "text": [
      "Factorial Result: 120\n"
     ]
    }
   ],
   "source": [
    "factorial_result = math.factorial(5)\n",
    "print(\"Factorial Result:\", factorial_result)"
   ]
  },
  {
   "cell_type": "markdown",
   "metadata": {},
   "source": [
    "### Floor and Ceiling\n"
   ]
  },
  {
   "cell_type": "code",
   "execution_count": 12,
   "metadata": {},
   "outputs": [
    {
     "name": "stdout",
     "output_type": "stream",
     "text": [
      "Floor Value: 4\n",
      "Ceiling Value: 5\n"
     ]
    }
   ],
   "source": [
    "floor_value = math.floor(4.8)\n",
    "ceiling_value = math.ceil(4.2)\n",
    "print(\"Floor Value:\", floor_value)\n",
    "print(\"Ceiling Value:\", ceiling_value)"
   ]
  }
 ],
 "metadata": {
  "kernelspec": {
   "display_name": "Python 3",
   "language": "python",
   "name": "python3"
  },
  "language_info": {
   "codemirror_mode": {
    "name": "ipython",
    "version": 3
   },
   "file_extension": ".py",
   "mimetype": "text/x-python",
   "name": "python",
   "nbconvert_exporter": "python",
   "pygments_lexer": "ipython3",
   "version": "3.11.5"
  }
 },
 "nbformat": 4,
 "nbformat_minor": 2
}
