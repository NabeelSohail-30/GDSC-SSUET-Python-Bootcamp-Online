{
 "cells": [
  {
   "cell_type": "markdown",
   "metadata": {},
   "source": [
    "# Title: Fundamentals of Programming and Programming Languages\n"
   ]
  },
  {
   "cell_type": "markdown",
   "metadata": {},
   "source": [
    "### GDSC SSUET Python Bootcamp Online\n",
    "\n",
    "**Trainer: Mohammad Nabeel**\n",
    "\n",
    "- Website: [https://nabeelsohail2630.wixsite.com/portfolio](https://nabeelsohail2630.wixsite.com/portfolio)\n",
    "- Facebook: [https://www.facebook.com/NabeelDeveloper](https://www.facebook.com/NabeelDeveloper)\n",
    "- LinkedIn: [https://www.linkedin.com/in/nabeel-sohail-a63508200/](https://www.linkedin.com/in/nabeel-sohail-a63508200/)\n",
    "- GitHub: [https://github.com/NabeelSohail-30](https://github.com/NabeelSohail-30)\n",
    "- WhatsApp: +923453628868\n",
    "- Email: [nabeel.sohail2630@outlook.com](mailto:nabeel.sohail2630@outlook.com)\n"
   ]
  },
  {
   "cell_type": "markdown",
   "metadata": {},
   "source": [
    "## What is a Program ?\n",
    "\n",
    "A computer program, often simply referred to as a \"program,\" is a set of instructions that a computer follows to perform a specific task or accomplish a particular function. These instructions are typically written in a programming language that is understandable by both humans and computers.\n"
   ]
  },
  {
   "cell_type": "markdown",
   "metadata": {},
   "source": [
    "## What is a Programming Language?\n",
    "\n",
    "A programming language is a set of rules and syntax used to write computer programs and software. It serves as a means of communication between humans (programmers) and computers, allowing programmers to provide instructions to a computer in a way that the computer can understand and execute.\n",
    "Popular programming languages include: Python, Java, JavaScript, C, C++, C#, TypeScript, Dart, etc.\n"
   ]
  },
  {
   "cell_type": "markdown",
   "metadata": {},
   "source": [
    "## Syntax ??\n",
    "\n",
    "In programming, \"syntax\" refers to the set of rules and conventions that dictate the structure of valid code in a programming language. These rules define how statements, expressions, and other elements of the language should be formatted and written.\n"
   ]
  },
  {
   "cell_type": "markdown",
   "metadata": {},
   "source": [
    "## Types of Programming Languages\n",
    "\n",
    "Low-level programming languages provide a high degree of control over the hardware and are closely related to the computer's architecture. They are often used for tasks that require precise memory management and hardware manipulation. These languages are challenging to work with and require a deep understanding of computer architecture. Example: Assembly and Machine Language\n",
    "\n",
    "Intermediate-level programming languages strike a balance between low-level and high-level languages. They provide a higher level of abstraction than low-level languages, making them more user-friendly while still allowing for some control over the hardware. Example: C, C++, etc\n",
    "\n",
    "High-level programming languages are designed to be more user-friendly and abstract away many of the complexities of low-level programming. They are known for their readability and ease of use, making them accessible to a broader audience, including non-programmers. Example: Python, JS, TS, Java, etc\n"
   ]
  },
  {
   "cell_type": "markdown",
   "metadata": {},
   "source": [
    "## Translator\n",
    "\n",
    "A translator is a computer program or tool that converts source code written in one programming language into another form that can be executed or processed by a computer. Translators take high-level programming languages or assembly languages and convert them into machine code.\n"
   ]
  },
  {
   "cell_type": "markdown",
   "metadata": {},
   "source": [
    "### Assembler\n",
    "\n",
    "An assembler is a type of translator used to convert assembly language code into machine code.\n",
    "\n",
    "### Compiler\n",
    "\n",
    "A compiler is a translator that converts high-level programming code (e.g., C, C++, Java) into machine code or an intermediate representation. The compilation process involves translating the entire source code into an executable binary or intermediate code file.\n",
    "\n",
    "### Interpreter\n",
    "\n",
    "An interpreter is a translator that reads and executes the source code line by line, Interpreters are commonly used for high-level languages like Python and JavaScript.\n"
   ]
  },
  {
   "cell_type": "markdown",
   "metadata": {},
   "source": [
    "## Error\n",
    "\n",
    "An error in the context of computer programming refers to a deviation or mistake in the source code that prevents the program from running correctly or producing the expected results.\n",
    "\n",
    "### Syntax Error\n",
    "\n",
    "A syntax error is a fundamental error in the source code that violates the language's grammatical rules or syntax. These errors occur during the compilation or parsing phase of the code, well before the program is executed.\n",
    "\n",
    "### Logical Error\n",
    "\n",
    "A logical error, is a type of error that does not result in a program crash or error message. Instead, the program runs without reporting any issues, but it does not produce the expected output.\n",
    "\n",
    "### Runtime Error\n",
    "\n",
    "A runtime error occurs while the program is executing and is typically caused by unexpected conditions or events that the programmer did not anticipate or handle properly.\n"
   ]
  }
 ],
 "metadata": {
  "language_info": {
   "name": "python"
  }
 },
 "nbformat": 4,
 "nbformat_minor": 2
}
