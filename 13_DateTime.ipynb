{
 "cells": [
  {
   "cell_type": "markdown",
   "metadata": {},
   "source": [
    "# Title: DateTime in Python\n"
   ]
  },
  {
   "cell_type": "markdown",
   "metadata": {},
   "source": [
    "## Import necessary libraries\n"
   ]
  },
  {
   "cell_type": "code",
   "execution_count": 1,
   "metadata": {},
   "outputs": [],
   "source": [
    "from datetime import datetime"
   ]
  },
  {
   "cell_type": "markdown",
   "metadata": {},
   "source": [
    "## Python Dates\n"
   ]
  },
  {
   "cell_type": "markdown",
   "metadata": {},
   "source": [
    "In Python, dates are represented using the `datetime` module.\n",
    "Let's create a simple date object.\n"
   ]
  },
  {
   "cell_type": "markdown",
   "metadata": {},
   "source": [
    "## Current date and time\n"
   ]
  },
  {
   "cell_type": "code",
   "execution_count": 2,
   "metadata": {},
   "outputs": [
    {
     "name": "stdout",
     "output_type": "stream",
     "text": [
      "Current Date and Time: 2023-11-12 13:28:22.821163\n"
     ]
    }
   ],
   "source": [
    "current_datetime = datetime.now()\n",
    "print(\"Current Date and Time:\", current_datetime)"
   ]
  },
  {
   "cell_type": "markdown",
   "metadata": {},
   "source": [
    "## strftime() Method\n"
   ]
  },
  {
   "cell_type": "markdown",
   "metadata": {},
   "source": [
    "The `strftime()` method is used to format date objects into readable strings.\n",
    "It takes a format code as an argument and returns a formatted string.\n"
   ]
  },
  {
   "cell_type": "markdown",
   "metadata": {},
   "source": [
    "## Format codes\n"
   ]
  },
  {
   "cell_type": "markdown",
   "metadata": {},
   "source": [
    "- %Y - Year with century as a decimal number.\n",
    "- %m - Month as a zero-padded decimal number.\n",
    "- %d - Day of the month as a zero-padded decimal number.\n",
    "- %H - Hour (00 to 23).\n",
    "- %M - Minute (00 to 59).\n",
    "- %S - Second (00 to 59).\n"
   ]
  },
  {
   "cell_type": "code",
   "execution_count": 3,
   "metadata": {},
   "outputs": [
    {
     "name": "stdout",
     "output_type": "stream",
     "text": [
      "Formatted Date: 2023-11-12 13:28:22\n"
     ]
    }
   ],
   "source": [
    "formatted_date = current_datetime.strftime(\"%Y-%m-%d %H:%M:%S\")\n",
    "print(\"Formatted Date:\", formatted_date)"
   ]
  },
  {
   "cell_type": "markdown",
   "metadata": {},
   "source": [
    "## Working with Date Times\n"
   ]
  },
  {
   "cell_type": "markdown",
   "metadata": {},
   "source": [
    "You can perform various operations on date and time objects.\n"
   ]
  },
  {
   "cell_type": "markdown",
   "metadata": {},
   "source": [
    "### Creating a specific date\n"
   ]
  },
  {
   "cell_type": "code",
   "execution_count": 4,
   "metadata": {},
   "outputs": [
    {
     "name": "stdout",
     "output_type": "stream",
     "text": [
      "Specific Date and Time: 2023-01-15 12:30:00\n"
     ]
    }
   ],
   "source": [
    "specific_date = datetime(2023, 1, 15, 12, 30, 0)\n",
    "print(\"Specific Date and Time:\", specific_date)"
   ]
  },
  {
   "cell_type": "markdown",
   "metadata": {},
   "source": [
    "### Difference between two dates\n"
   ]
  },
  {
   "cell_type": "code",
   "execution_count": 5,
   "metadata": {},
   "outputs": [
    {
     "name": "stdout",
     "output_type": "stream",
     "text": [
      "Difference between two dates: 14 days, 0:00:00\n"
     ]
    }
   ],
   "source": [
    "date1 = datetime(2023, 1, 1)\n",
    "date2 = datetime(2023, 1, 15)\n",
    "date_difference = date2 - date1\n",
    "print(\"Difference between two dates:\", date_difference)"
   ]
  },
  {
   "cell_type": "markdown",
   "metadata": {},
   "source": [
    "### Adding or subtracting time\n"
   ]
  },
  {
   "cell_type": "code",
   "execution_count": 7,
   "metadata": {},
   "outputs": [
    {
     "name": "stdout",
     "output_type": "stream",
     "text": [
      "Specific Date: 2023-01-15 12:30:00\n",
      "New Date after adding time: 2023-01-20 15:30:00\n"
     ]
    }
   ],
   "source": [
    "from datetime import timedelta\n",
    "print('Specific Date:', specific_date)\n",
    "\n",
    "\n",
    "new_date = specific_date + timedelta(days=5, hours=3)\n",
    "\n",
    "\n",
    "print(\"New Date after adding time:\", new_date)"
   ]
  },
  {
   "cell_type": "markdown",
   "metadata": {},
   "source": [
    "### Comparing dates\n"
   ]
  },
  {
   "cell_type": "code",
   "execution_count": 8,
   "metadata": {},
   "outputs": [
    {
     "name": "stdout",
     "output_type": "stream",
     "text": [
      "Date 1 is before Date 2\n"
     ]
    }
   ],
   "source": [
    "if date1 < date2:\n",
    "    print(\"Date 1 is before Date 2\")\n",
    "elif date1 > date2:\n",
    "    print(\"Date 1 is after Date 2\")\n",
    "else:\n",
    "    print(\"Date 1 is equal to Date 2\")"
   ]
  }
 ],
 "metadata": {
  "kernelspec": {
   "display_name": "Python 3",
   "language": "python",
   "name": "python3"
  },
  "language_info": {
   "codemirror_mode": {
    "name": "ipython",
    "version": 3
   },
   "file_extension": ".py",
   "mimetype": "text/x-python",
   "name": "python",
   "nbconvert_exporter": "python",
   "pygments_lexer": "ipython3",
   "version": "3.11.5"
  }
 },
 "nbformat": 4,
 "nbformat_minor": 2
}
